{
 "cells": [
  {
   "cell_type": "code",
   "execution_count": 1,
   "id": "9b03554b",
   "metadata": {},
   "outputs": [],
   "source": [
    "import pandas as pd\n",
    "import xml.etree.ElementTree as ET\n",
    "import pickle\n",
    "import plotly.express as px\n",
    "import matplotlib.pyplot as plt\n",
    "from statsmodels.graphics.mosaicplot import mosaic\n",
    "from scipy.stats import chi2_contingency\n",
    "import numpy as np"
   ]
  },
  {
   "cell_type": "code",
   "execution_count": 2,
   "id": "758611e3",
   "metadata": {},
   "outputs": [],
   "source": [
    "data = pd.read_csv('dados/results-survey292284(4).csv')"
   ]
  },
  {
   "cell_type": "code",
   "execution_count": 3,
   "id": "c61b47b2",
   "metadata": {},
   "outputs": [],
   "source": [
    "# Parse the XML file\n",
    "tree = ET.parse('dados/survey_292284_pt-BR.xml')\n",
    "\n",
    "# Get the root element\n",
    "root = tree.getroot()"
   ]
  },
  {
   "cell_type": "code",
   "execution_count": 4,
   "id": "a6ba772e",
   "metadata": {},
   "outputs": [
    {
     "data": {
      "text/plain": [
       "['1230', '698', '699', '697', '695', '694', '701', '700', '693']"
      ]
     },
     "execution_count": 4,
     "metadata": {},
     "output_type": "execute_result"
    }
   ],
   "source": [
    "sections = [element for element in root.iter() if element.tag == 'section']\n",
    "section_names = [section.get('id') for section in sections]\n",
    "section_names"
   ]
  },
  {
   "cell_type": "code",
   "execution_count": 5,
   "id": "8b719737",
   "metadata": {},
   "outputs": [],
   "source": [
    "varmap = {}\n",
    "for section in [root.find(f'.//section[@id=\"{section_id}\"]') for section_id in ['700', '693', '694']]:\n",
    "    for question in section.findall('.//question'):\n",
    "        var_name = question.find('response').get('varName')\n",
    "        text = question.find('text').text if question.find('text') is not None else \"\"\n",
    "        varmap[var_name] = text\n",
    "    for subquestion in section.findall('.//subQuestion'):\n",
    "        var_name = subquestion.get('varName')\n",
    "        text = subquestion.find('text').text if subquestion.find('text') is not None else \"\"\n",
    "        varmap[var_name] = text\n",
    "    "
   ]
  },
  {
   "cell_type": "code",
   "execution_count": 6,
   "id": "42f5d864",
   "metadata": {},
   "outputs": [],
   "source": [
    "varmap['CE06'] = \"Você diria que a religião, em sua vida pessoal, é...\""
   ]
  },
  {
   "cell_type": "code",
   "execution_count": 7,
   "id": "43130128",
   "metadata": {},
   "outputs": [],
   "source": [
    "sub_questions_dict = {\n",
    "    'adc1_SQ001': 'palestra público geral',\n",
    "    'adc1_SQ002': 'curso público externo',\n",
    "    'adc1_SQ003': 'aula oficina escola básica',\n",
    "    'adc1_SQ004': 'comissão técnica ou conselho prof.',\n",
    "    'adc1_SQ005': 'Pint of Science',\n",
    "    'adc1_SQ006': 'Dia Ciência Semana Nacional C&T',\n",
    "    'adc1_SQ007': 'evento ONG movimento social',\n",
    "    'adc1_SQ008': 'artigo revista público geral',\n",
    "    'adc1_SQ009': 'entrevista jornal revista público geral',\n",
    "    'adc1_SQ010': 'livro ou capítulo de divulgação',\n",
    "    'adc1_SQ011': 'release programa TV rádio',\n",
    "    'adc1_SQ012': 'audiência pública',\n",
    "    'adc1_SQ013': 'visita guiada museu',\n",
    "    'adc1_SQ014': 'programa mídias digitais',\n",
    "    'adc1_SQ015': 'midias digitais canal próprio'\n",
    "}\n"
   ]
  },
  {
   "cell_type": "code",
   "execution_count": 8,
   "id": "9312271b",
   "metadata": {},
   "outputs": [],
   "source": [
    "for key in varmap.keys():\n",
    "    if key in sub_questions_dict:\n",
    "        varmap[key] = sub_questions_dict[key]"
   ]
  },
  {
   "cell_type": "code",
   "execution_count": 9,
   "id": "c4465b21",
   "metadata": {},
   "outputs": [],
   "source": [
    "varmap = {\n",
    "    (key.replace(\"_\", \"[\") + \"]\") if \"SQ\" in key else key: value\n",
    "    for key, value in varmap.items()\n",
    "}"
   ]
  },
  {
   "cell_type": "code",
   "execution_count": 12,
   "id": "320e3bbf",
   "metadata": {},
   "outputs": [],
   "source": [
    "atividades = [value for key, value in varmap.items() if \"adc1[SQ\" in key]"
   ]
  },
  {
   "cell_type": "code",
   "execution_count": 11,
   "id": "d4b9fe48",
   "metadata": {},
   "outputs": [
    {
     "data": {
      "text/plain": [
       "{'VAL01': 'Quais das seguintes organizações e/ou associações voluntárias você pertence e/ou frequenta?',\n",
       " 'VAL02': 'Quais das seguintes formas de atuação política você já fez ou poderia vir a fazer?',\n",
       " 'VAL01[SQ001]': 'Igreja ou grupo religioso',\n",
       " 'VAL01[SQ002]': 'Associação esportiva ou recreativa',\n",
       " 'VAL01[SQ003]': 'Associação artística, musical ou educacional',\n",
       " 'VAL01[SQ004]': 'Sindicato',\n",
       " 'VAL01[SQ005]': 'Partido político',\n",
       " 'VAL01[SQ006]': 'Associação de defesa do meio ambiente',\n",
       " 'VAL01[SQ007]': 'Associação profissional, ou seja, um grupo de profissionais voluntários da mesma área com interesses em comum',\n",
       " 'VAL01[SQ008]': 'Associação humanitária ou de caridade',\n",
       " 'VAL01[SQ009]': 'Associação de consumidores',\n",
       " 'VAL01[SQ010]': 'Grupo de autoajuda, grupo de ajuda mútua',\n",
       " 'VAL02[SQ001]': 'Assinou um abaixo assinado',\n",
       " 'VAL02[SQ002]': 'Participou de algum boicote',\n",
       " 'VAL02[SQ003]': 'Participou de manifestações pacíficas',\n",
       " 'VAL02[SQ004]': 'Participou de greves',\n",
       " 'VAL02[SQ005]': 'Participou de qualquer outro ato de protesto',\n",
       " 'CE01': 'Quantos anos você tem?',\n",
       " 'CE02': 'Qual é o seu sexo?',\n",
       " 'CE03': 'Até qual série a sua mãe estudou na escola, ou seja, qual a escolaridade dela?',\n",
       " 'CE04': 'Qual sua cor ou raça?',\n",
       " 'CE05': 'Você pertence a alguma religião ou grupo religioso/espiritualista?',\n",
       " 'CE06': 'Você diria que a religião, em sua vida pessoal, é...',\n",
       " 'CE10': 'A ciência que você desenvolve hoje é melhor identificada como:',\n",
       " 'CE07': 'Do ponto de vista do posicionamento político, você considera que a expressão que mais se aproxima de sua orientação é...',\n",
       " 'CE08': 'Em qual nível de Bolsa Produtividade do CNPq você se enquadra?',\n",
       " 'CE09': 'Em qual universidade ou instituto de pesquisa você trabalha atualmente?',\n",
       " 'CE11': 'Qual é a grande área do conhecimento de sua atuação?',\n",
       " 'CE12agrarias': 'Qual é a sub-área do conhecimento de sua atuação?',\n",
       " 'CE12biologicas': 'Qual é a sub-área do conhecimento de sua atuação?',\n",
       " 'CE12engenharias': 'Qual é a sub-área do conhecimento de sua atuação?',\n",
       " 'CE12exatas': 'Qual é a sub-área do conhecimento de sua atuação?',\n",
       " 'CE12humanas': 'Qual é a sub-área do conhecimento de sua atuação?',\n",
       " 'CE12letrasartes': 'Qual é a sub-área do conhecimento de sua atuação?',\n",
       " 'CE12saude': 'Qual é a sub-área do conhecimento de sua atuação?',\n",
       " 'CE12sociaisaplicadas': 'Qual é a sub-área do conhecimento de sua atuação?',\n",
       " 'CE13': 'Em qual região do Brasil sua instituição se encontra?',\n",
       " 'CE14': 'Há quantos anos você está vinculado a esta universidade ou instituto de pesquisa?',\n",
       " 'CE15': 'Há quantos anos você atua em pesquisa científica ou docência universitária?',\n",
       " 'adc1': 'Entre as seguintes atividades de divulgação científica, nos últimos 12 meses quantas vezes você...',\n",
       " 'adc2': 'Quando você conclui uma pesquisa, você entra em contato com a mídia para comunicar os resultados?',\n",
       " 'adc3': 'No seu caso, qual importância tem os seguintes profissionais para a sua comunicação com o público não-especialista:',\n",
       " 'adc8': 'Quando você se comunica com o público não-especialista, este diálogo se dá principalmente...',\n",
       " 'adc4': 'Quantas vezes você foi solicitado/a por jornalistas (qualquer mídia), diretamente ou por terceiros, nos últimos 12 meses?',\n",
       " 'adc5': 'E quantas vezes você aceitou?',\n",
       " 'adc6': 'Em geral, de que modo você é solicitado/a pela mídia?',\n",
       " 'adc07': 'Você colabora com algum parque ou incubadora tecnológico(a), ligado(a) ou não à sua Universidade ou Instituto de Pesquisa?',\n",
       " 'adc1[SQ001]': 'palestra público geral',\n",
       " 'adc1[SQ002]': 'curso público externo',\n",
       " 'adc1[SQ003]': 'aula oficina escola básica',\n",
       " 'adc1[SQ004]': 'comissão técnica ou conselho prof.',\n",
       " 'adc1[SQ005]': 'Pint of Science',\n",
       " 'adc1[SQ006]': 'Dia Ciência Semana Nacional C&T',\n",
       " 'adc1[SQ007]': 'evento ONG movimento social',\n",
       " 'adc1[SQ008]': 'artigo revista público geral',\n",
       " 'adc1[SQ009]': 'entrevista jornal revista público geral',\n",
       " 'adc1[SQ010]': 'livro ou capítulo de divulgação',\n",
       " 'adc1[SQ011]': 'release programa TV rádio',\n",
       " 'adc1[SQ012]': 'audiência pública',\n",
       " 'adc1[SQ013]': 'visita guiada museu',\n",
       " 'adc1[SQ014]': 'programa mídias digitais',\n",
       " 'adc1[SQ015]': 'midias digitais canal próprio',\n",
       " 'adc3[SQ001]': 'Assessoria de comunicação geral de minha universidade ou instituto de pesquisa',\n",
       " 'adc3[SQ002]': 'Assessoria de comunicação de meu laboratório ou unidade acadêmica',\n",
       " 'adc3[SQ003]': 'Mídia, jornalistas',\n",
       " 'adc3[SQ004]': 'Profissionais de museus',\n",
       " 'adc6[SQ001]': 'Diretamente',\n",
       " 'adc6[SQ002]': 'Via assessoria de comunicação geral de minha universidade ou instituto de pesquisa',\n",
       " 'adc6[SQ003]': 'Via assessoria de comunicação de meu laboratório ou unidade acadêmica'}"
      ]
     },
     "execution_count": 11,
     "metadata": {},
     "output_type": "execute_result"
    }
   ],
   "source": [
    "varmap"
   ]
  },
  {
   "cell_type": "code",
   "execution_count": 13,
   "id": "8e34ce8e",
   "metadata": {},
   "outputs": [],
   "source": [
    "keys_to_delete = ['CE09', 'CE01', 'CE15'] + [key for key in varmap.keys() if key.startswith('CE12')]\n",
    "for key in keys_to_delete:\n",
    "    varmap.pop(key, None)"
   ]
  },
  {
   "cell_type": "code",
   "execution_count": 31,
   "id": "94696ff3",
   "metadata": {},
   "outputs": [],
   "source": [
    "with open('varmap.pkl', 'wb') as f:\n",
    "    pickle.dump(varmap, f)"
   ]
  },
  {
   "cell_type": "code",
   "execution_count": 16,
   "id": "00e80784",
   "metadata": {},
   "outputs": [
    {
     "data": {
      "text/plain": [
       "[('CE02', 'Qual é o seu sexo?'),\n",
       " ('CE03',\n",
       "  'Até qual série a sua mãe estudou na escola, ou seja, qual a escolaridade dela?'),\n",
       " ('CE04', 'Qual sua cor ou raça?'),\n",
       " ('CE05',\n",
       "  'Você pertence a alguma religião ou grupo religioso/espiritualista?'),\n",
       " ('CE06', 'Você diria que a religião, em sua vida pessoal, é...'),\n",
       " ('CE10', 'A ciência que você desenvolve hoje é melhor identificada como:'),\n",
       " ('CE07',\n",
       "  'Do ponto de vista do posicionamento político, você considera que a expressão que mais se aproxima de sua orientação é...'),\n",
       " ('CE08', 'Em qual nível de Bolsa Produtividade do CNPq você se enquadra?'),\n",
       " ('CE11', 'Qual é a grande área do conhecimento de sua atuação?'),\n",
       " ('CE13', 'Em qual região do Brasil sua instituição se encontra?'),\n",
       " ('CE14',\n",
       "  'Há quantos anos você está vinculado a esta universidade ou instituto de pesquisa?')]"
      ]
     },
     "execution_count": 16,
     "metadata": {},
     "output_type": "execute_result"
    }
   ],
   "source": [
    "variaveis_demograficas =  [(key, value) for key, value in varmap.items() if \"CE\" in key]\n",
    "variaveis_demograficas"
   ]
  },
  {
   "cell_type": "code",
   "execution_count": 17,
   "id": "3644d93d",
   "metadata": {},
   "outputs": [],
   "source": [
    "# Obtenha as colunas que são chaves de varmap e também estão presentes no DataFrame data\n",
    "columns_to_keep = [col for col in varmap.keys() if col in data.columns]\n",
    "\n",
    "# Filtre o DataFrame data mantendo apenas as colunas especificadas\n",
    "df = data[columns_to_keep]\n"
   ]
  },
  {
   "cell_type": "code",
   "execution_count": 18,
   "id": "e4a6ec92",
   "metadata": {},
   "outputs": [
    {
     "data": {
      "text/html": [
       "<div>\n",
       "<style scoped>\n",
       "    .dataframe tbody tr th:only-of-type {\n",
       "        vertical-align: middle;\n",
       "    }\n",
       "\n",
       "    .dataframe tbody tr th {\n",
       "        vertical-align: top;\n",
       "    }\n",
       "\n",
       "    .dataframe thead th {\n",
       "        text-align: right;\n",
       "    }\n",
       "</style>\n",
       "<table border=\"1\" class=\"dataframe\">\n",
       "  <thead>\n",
       "    <tr style=\"text-align: right;\">\n",
       "      <th></th>\n",
       "      <th>VAL01[SQ001]</th>\n",
       "      <th>VAL01[SQ002]</th>\n",
       "      <th>VAL01[SQ003]</th>\n",
       "      <th>VAL01[SQ004]</th>\n",
       "      <th>VAL01[SQ005]</th>\n",
       "      <th>VAL01[SQ006]</th>\n",
       "      <th>VAL01[SQ007]</th>\n",
       "      <th>VAL01[SQ008]</th>\n",
       "      <th>VAL01[SQ009]</th>\n",
       "      <th>VAL01[SQ010]</th>\n",
       "      <th>...</th>\n",
       "      <th>adc1[SQ013]</th>\n",
       "      <th>adc1[SQ014]</th>\n",
       "      <th>adc1[SQ015]</th>\n",
       "      <th>adc3[SQ001]</th>\n",
       "      <th>adc3[SQ002]</th>\n",
       "      <th>adc3[SQ003]</th>\n",
       "      <th>adc3[SQ004]</th>\n",
       "      <th>adc6[SQ001]</th>\n",
       "      <th>adc6[SQ002]</th>\n",
       "      <th>adc6[SQ003]</th>\n",
       "    </tr>\n",
       "  </thead>\n",
       "  <tbody>\n",
       "    <tr>\n",
       "      <th>0</th>\n",
       "      <td>NaN</td>\n",
       "      <td>NaN</td>\n",
       "      <td>NaN</td>\n",
       "      <td>NaN</td>\n",
       "      <td>NaN</td>\n",
       "      <td>NaN</td>\n",
       "      <td>NaN</td>\n",
       "      <td>NaN</td>\n",
       "      <td>NaN</td>\n",
       "      <td>NaN</td>\n",
       "      <td>...</td>\n",
       "      <td>NaN</td>\n",
       "      <td>NaN</td>\n",
       "      <td>NaN</td>\n",
       "      <td>NaN</td>\n",
       "      <td>NaN</td>\n",
       "      <td>NaN</td>\n",
       "      <td>NaN</td>\n",
       "      <td>NaN</td>\n",
       "      <td>NaN</td>\n",
       "      <td>NaN</td>\n",
       "    </tr>\n",
       "    <tr>\n",
       "      <th>1</th>\n",
       "      <td>Não pertenço</td>\n",
       "      <td>Não pertenço</td>\n",
       "      <td>Não pertenço</td>\n",
       "      <td>Não pertenço</td>\n",
       "      <td>Não pertenço</td>\n",
       "      <td>Não pertenço</td>\n",
       "      <td>Não pertenço</td>\n",
       "      <td>Não pertenço</td>\n",
       "      <td>Não pertenço</td>\n",
       "      <td>Não pertenço</td>\n",
       "      <td>...</td>\n",
       "      <td>Nenhuma vez</td>\n",
       "      <td>Nenhuma vez</td>\n",
       "      <td>Nenhuma vez</td>\n",
       "      <td>Muito importante</td>\n",
       "      <td>NaN</td>\n",
       "      <td>Importante</td>\n",
       "      <td>Importante</td>\n",
       "      <td>Raramente</td>\n",
       "      <td>Nunca</td>\n",
       "      <td>Nunca</td>\n",
       "    </tr>\n",
       "    <tr>\n",
       "      <th>2</th>\n",
       "      <td>Pertenço e frequento</td>\n",
       "      <td>Pertenço, mas não frequento muito</td>\n",
       "      <td>Não pertenço</td>\n",
       "      <td>Pertenço e frequento</td>\n",
       "      <td>Não pertenço</td>\n",
       "      <td>Não pertenço</td>\n",
       "      <td>Pertenço e frequento</td>\n",
       "      <td>Não pertenço</td>\n",
       "      <td>Não pertenço</td>\n",
       "      <td>Não pertenço</td>\n",
       "      <td>...</td>\n",
       "      <td>1 vez</td>\n",
       "      <td>2 vezes</td>\n",
       "      <td>3 vezes</td>\n",
       "      <td>Muito importante</td>\n",
       "      <td>NaN</td>\n",
       "      <td>Muito importante</td>\n",
       "      <td>Importante</td>\n",
       "      <td>Raramente</td>\n",
       "      <td>Frequentemente</td>\n",
       "      <td>NaN</td>\n",
       "    </tr>\n",
       "    <tr>\n",
       "      <th>3</th>\n",
       "      <td>Pertenço, mas não frequento muito</td>\n",
       "      <td>Não pertenço</td>\n",
       "      <td>Não pertenço</td>\n",
       "      <td>Não pertenço</td>\n",
       "      <td>Não pertenço</td>\n",
       "      <td>Não pertenço</td>\n",
       "      <td>Não pertenço</td>\n",
       "      <td>Não pertenço</td>\n",
       "      <td>Não pertenço</td>\n",
       "      <td>Não pertenço</td>\n",
       "      <td>...</td>\n",
       "      <td>1 vez</td>\n",
       "      <td>Nenhuma vez</td>\n",
       "      <td>Nenhuma vez</td>\n",
       "      <td>Muito importante</td>\n",
       "      <td>Muito importante</td>\n",
       "      <td>Muito importante</td>\n",
       "      <td>Muito importante</td>\n",
       "      <td>Frequentemente</td>\n",
       "      <td>Nunca</td>\n",
       "      <td>Nunca</td>\n",
       "    </tr>\n",
       "    <tr>\n",
       "      <th>4</th>\n",
       "      <td>NaN</td>\n",
       "      <td>NaN</td>\n",
       "      <td>NaN</td>\n",
       "      <td>NaN</td>\n",
       "      <td>NaN</td>\n",
       "      <td>NaN</td>\n",
       "      <td>NaN</td>\n",
       "      <td>NaN</td>\n",
       "      <td>NaN</td>\n",
       "      <td>NaN</td>\n",
       "      <td>...</td>\n",
       "      <td>NaN</td>\n",
       "      <td>NaN</td>\n",
       "      <td>NaN</td>\n",
       "      <td>NaN</td>\n",
       "      <td>NaN</td>\n",
       "      <td>NaN</td>\n",
       "      <td>NaN</td>\n",
       "      <td>NaN</td>\n",
       "      <td>NaN</td>\n",
       "      <td>NaN</td>\n",
       "    </tr>\n",
       "  </tbody>\n",
       "</table>\n",
       "<p>5 rows × 53 columns</p>\n",
       "</div>"
      ],
      "text/plain": [
       "                        VAL01[SQ001]                       VAL01[SQ002]  \\\n",
       "0                                NaN                                NaN   \n",
       "1                       Não pertenço                       Não pertenço   \n",
       "2               Pertenço e frequento  Pertenço, mas não frequento muito   \n",
       "3  Pertenço, mas não frequento muito                       Não pertenço   \n",
       "4                                NaN                                NaN   \n",
       "\n",
       "   VAL01[SQ003]          VAL01[SQ004]  VAL01[SQ005]  VAL01[SQ006]  \\\n",
       "0           NaN                   NaN           NaN           NaN   \n",
       "1  Não pertenço          Não pertenço  Não pertenço  Não pertenço   \n",
       "2  Não pertenço  Pertenço e frequento  Não pertenço  Não pertenço   \n",
       "3  Não pertenço          Não pertenço  Não pertenço  Não pertenço   \n",
       "4           NaN                   NaN           NaN           NaN   \n",
       "\n",
       "           VAL01[SQ007]  VAL01[SQ008]  VAL01[SQ009]  VAL01[SQ010]  ...  \\\n",
       "0                   NaN           NaN           NaN           NaN  ...   \n",
       "1          Não pertenço  Não pertenço  Não pertenço  Não pertenço  ...   \n",
       "2  Pertenço e frequento  Não pertenço  Não pertenço  Não pertenço  ...   \n",
       "3          Não pertenço  Não pertenço  Não pertenço  Não pertenço  ...   \n",
       "4                   NaN           NaN           NaN           NaN  ...   \n",
       "\n",
       "   adc1[SQ013]  adc1[SQ014]  adc1[SQ015]       adc3[SQ001]       adc3[SQ002]  \\\n",
       "0          NaN          NaN          NaN               NaN               NaN   \n",
       "1  Nenhuma vez  Nenhuma vez  Nenhuma vez  Muito importante               NaN   \n",
       "2        1 vez      2 vezes      3 vezes  Muito importante               NaN   \n",
       "3        1 vez  Nenhuma vez  Nenhuma vez  Muito importante  Muito importante   \n",
       "4          NaN          NaN          NaN               NaN               NaN   \n",
       "\n",
       "        adc3[SQ003]       adc3[SQ004]     adc6[SQ001]     adc6[SQ002]  \\\n",
       "0               NaN               NaN             NaN             NaN   \n",
       "1        Importante        Importante       Raramente           Nunca   \n",
       "2  Muito importante        Importante       Raramente  Frequentemente   \n",
       "3  Muito importante  Muito importante  Frequentemente           Nunca   \n",
       "4               NaN               NaN             NaN             NaN   \n",
       "\n",
       "  adc6[SQ003]  \n",
       "0         NaN  \n",
       "1       Nunca  \n",
       "2         NaN  \n",
       "3       Nunca  \n",
       "4         NaN  \n",
       "\n",
       "[5 rows x 53 columns]"
      ]
     },
     "execution_count": 18,
     "metadata": {},
     "output_type": "execute_result"
    }
   ],
   "source": [
    "df.head()"
   ]
  },
  {
   "cell_type": "code",
   "execution_count": 19,
   "id": "9c471fa9",
   "metadata": {},
   "outputs": [
    {
     "name": "stderr",
     "output_type": "stream",
     "text": [
      "C:\\Users\\mapereira\\AppData\\Local\\Temp\\ipykernel_10456\\1379821321.py:1: SettingWithCopyWarning: \n",
      "A value is trying to be set on a copy of a slice from a DataFrame\n",
      "\n",
      "See the caveats in the documentation: https://pandas.pydata.org/pandas-docs/stable/user_guide/indexing.html#returning-a-view-versus-a-copy\n",
      "  df.dropna(inplace=True)\n"
     ]
    }
   ],
   "source": [
    "df.dropna(inplace=True)"
   ]
  },
  {
   "cell_type": "code",
   "execution_count": 20,
   "id": "86dc897a",
   "metadata": {},
   "outputs": [
    {
     "name": "stderr",
     "output_type": "stream",
     "text": [
      "C:\\Users\\mapereira\\AppData\\Local\\Temp\\ipykernel_10456\\83487144.py:1: SettingWithCopyWarning: \n",
      "A value is trying to be set on a copy of a slice from a DataFrame.\n",
      "Try using .loc[row_indexer,col_indexer] = value instead\n",
      "\n",
      "See the caveats in the documentation: https://pandas.pydata.org/pandas-docs/stable/user_guide/indexing.html#returning-a-view-versus-a-copy\n",
      "  df.CE05 = df.CE05.str.split(\"(\").str[0]\n"
     ]
    }
   ],
   "source": [
    "df.CE05 = df.CE05.str.split(\"(\").str[0]"
   ]
  },
  {
   "cell_type": "code",
   "execution_count": 32,
   "id": "414a5bf3",
   "metadata": {},
   "outputs": [],
   "source": [
    "df.to_csv('data_tratado.csv', index=False)"
   ]
  },
  {
   "cell_type": "code",
   "execution_count": 34,
   "id": "46ea5595",
   "metadata": {},
   "outputs": [],
   "source": [
    "def plot_grouped_bar_chart(data, varmap, ordered_categories):    \n",
    "    # Filtrar as colunas que começam com 'adc1'\n",
    "    adc1_columns = [col for col in data.columns if col.startswith('adc1')]\n",
    "\n",
    "    # Subplot títulos\n",
    "    titles = [value for key, value in varmap.items() if key in adc1_columns]\n",
    "\n",
    "    # Calcular a contagem dos valores de cada coluna e preparar os dados\n",
    "    data_counts = pd.DataFrame({col: data[col].value_counts().reindex(ordered_categories) for col in adc1_columns})\n",
    "    data_counts = data_counts.T  # Transpor para que as atividades sejam as linhas\n",
    "    data_counts.index = titles\n",
    "    data_counts.sort_values(by=\"Nenhuma vez\", inplace=True)  # Ordenar as atividades pela contagem de \"Nenhuma vez\"\n",
    "\n",
    "    # Lista de textos para a legenda\n",
    "    legend_texts = [\"Nenhuma\", \"1 vez\", \"2 vezes\", \"3 vezes\", \"4 vezes\", \"5 vezes\", \"Mais de 5 vezes\"]\n",
    "\n",
    "    # Criar o gráfico de barras agrupadas\n",
    "    fig = go.Figure()\n",
    "\n",
    "    for category in ordered_categories:\n",
    "        fig.add_trace(go.Bar(\n",
    "            x=data_counts.index,\n",
    "            y=data_counts[category],\n",
    "            name=category,\n",
    "            width=0.13,\n",
    "            marker=dict(line=dict(width=1))\n",
    "        ))\n",
    "\n",
    "    # Atualizar o layout do gráfico\n",
    "    fig.update_layout(\n",
    "        barmode='group',\n",
    "        title='Frequência das atividades de divulgação científica da amostra',\n",
    "        title_font=dict(size=18),  # Tamanho da fonte do título\n",
    "        title_x=0.5,  # Centralizar o título\n",
    "        xaxis_title='',\n",
    "        yaxis_title='',\n",
    "        template='plotly_dark',\n",
    "        legend=dict(font=dict(size=18)),\n",
    "        height=800,\n",
    "        xaxis=dict(\n",
    "            tickmode='array',\n",
    "            tickvals=[i for i in range(len(data_counts.index))],\n",
    "            ticktext=[f'{\" \".join(title.split()[:3])}<br>{\" \".join(title.split()[3:])}' for title in data_counts.index],\n",
    "            tickfont=dict(size=16),\n",
    "        ),\n",
    "        yaxis=dict(\n",
    "            tickfont=dict(size=16),\n",
    "        ),\n",
    "    )\n",
    "    \n",
    "    # Exibir o gráfico\n",
    "    fig.show()\n"
   ]
  },
  {
   "cell_type": "markdown",
   "id": "b843f4a1",
   "metadata": {},
   "source": [
    "### Gráfico de Barras empilhadas"
   ]
  },
  {
   "cell_type": "code",
   "execution_count": 21,
   "id": "e107fd0b",
   "metadata": {},
   "outputs": [],
   "source": [
    "# Aplicar a transformação de categorias ordenadas a todas as colunas que começam com 'adc1'\n",
    "\n",
    "ordered_categories = ['Nenhuma vez', '1 vez', '2 vezes', '3 vezes', '4 vezes', '5 vezes', 'mais de 5 vezes']\n",
    "\n",
    "dff = df.copy()\n",
    "\n",
    "for col in dff.columns:\n",
    "    if col.startswith('adc1'):\n",
    "        dff.loc[:, col] = pd.Categorical(dff.loc[:, col], categories=ordered_categories, ordered=True)"
   ]
  },
  {
   "cell_type": "code",
   "execution_count": 25,
   "id": "dda7cb12",
   "metadata": {},
   "outputs": [
    {
     "data": {
      "application/vnd.plotly.v1+json": {
       "config": {
        "plotlyServerURL": "https://plot.ly"
       },
       "data": [
        {
         "hovertemplate": "Frequência=Nenhuma vez<br>Atividade=%{x}<br>Contagem=%{y}<extra></extra>",
         "legendgroup": "Nenhuma vez",
         "marker": {
          "color": "#636efa",
          "pattern": {
           "shape": ""
          }
         },
         "name": "Nenhuma vez",
         "orientation": "v",
         "showlegend": true,
         "textposition": "auto",
         "type": "bar",
         "x": [
          "Dia Ciência Semana Nacional C&T",
          "Pint of Science",
          "artigo revista público geral",
          "audiência pública",
          "aula oficina escola básica",
          "comissão técnica ou conselho prof.",
          "curso público externo",
          "entrevista jornal revista público geral",
          "evento ONG movimento social",
          "livro ou capítulo de divulgação",
          "midias digitais canal próprio",
          "palestra público geral",
          "programa mídias digitais",
          "release programa TV rádio",
          "visita guiada museu"
         ],
         "xaxis": "x",
         "y": {
          "bdata": "DQGPAf4AoAFZAaoAuQC9ADIBBQEpAYwA0gAXAZMB",
          "dtype": "i2"
         },
         "yaxis": "y"
        },
        {
         "hovertemplate": "Frequência=1 vez<br>Atividade=%{x}<br>Contagem=%{y}<extra></extra>",
         "legendgroup": "1 vez",
         "marker": {
          "color": "#EF553B",
          "pattern": {
           "shape": ""
          }
         },
         "name": "1 vez",
         "orientation": "v",
         "showlegend": true,
         "textposition": "auto",
         "type": "bar",
         "x": [
          "Dia Ciência Semana Nacional C&T",
          "Pint of Science",
          "artigo revista público geral",
          "audiência pública",
          "aula oficina escola básica",
          "comissão técnica ou conselho prof.",
          "curso público externo",
          "entrevista jornal revista público geral",
          "evento ONG movimento social",
          "livro ou capítulo de divulgação",
          "midias digitais canal próprio",
          "palestra público geral",
          "programa mídias digitais",
          "release programa TV rádio",
          "visita guiada museu"
         ],
         "xaxis": "x",
         "y": {
          "bdata": "hAAnAFkAGwA2AGIAawBtAEUAXAAlAHsAVwBQABUA",
          "dtype": "i2"
         },
         "yaxis": "y"
        },
        {
         "hovertemplate": "Frequência=2 vezes<br>Atividade=%{x}<br>Contagem=%{y}<extra></extra>",
         "legendgroup": "2 vezes",
         "marker": {
          "color": "#00cc96",
          "pattern": {
           "shape": ""
          }
         },
         "name": "2 vezes",
         "orientation": "v",
         "showlegend": true,
         "textposition": "auto",
         "type": "bar",
         "x": [
          "Dia Ciência Semana Nacional C&T",
          "Pint of Science",
          "artigo revista público geral",
          "audiência pública",
          "aula oficina escola básica",
          "comissão técnica ou conselho prof.",
          "curso público externo",
          "entrevista jornal revista público geral",
          "evento ONG movimento social",
          "livro ou capítulo de divulgação",
          "midias digitais canal próprio",
          "palestra público geral",
          "programa mídias digitais",
          "release programa TV rádio",
          "visita guiada museu"
         ],
         "xaxis": "x",
         "y": {
          "bdata": "IQ4pCRhBSj8gLRRAOyMS",
          "dtype": "i1"
         },
         "yaxis": "y"
        },
        {
         "hovertemplate": "Frequência=3 vezes<br>Atividade=%{x}<br>Contagem=%{y}<extra></extra>",
         "legendgroup": "3 vezes",
         "marker": {
          "color": "#ab63fa",
          "pattern": {
           "shape": ""
          }
         },
         "name": "3 vezes",
         "orientation": "v",
         "showlegend": true,
         "textposition": "auto",
         "type": "bar",
         "x": [
          "Dia Ciência Semana Nacional C&T",
          "Pint of Science",
          "artigo revista público geral",
          "audiência pública",
          "aula oficina escola básica",
          "comissão técnica ou conselho prof.",
          "curso público externo",
          "entrevista jornal revista público geral",
          "evento ONG movimento social",
          "livro ou capítulo de divulgação",
          "midias digitais canal próprio",
          "palestra público geral",
          "programa mídias digitais",
          "release programa TV rádio",
          "visita guiada museu"
         ],
         "xaxis": "x",
         "y": {
          "bdata": "CgIUAREqICETDhAtHBIH",
          "dtype": "i1"
         },
         "yaxis": "y"
        },
        {
         "hovertemplate": "Frequência=4 vezes<br>Atividade=%{x}<br>Contagem=%{y}<extra></extra>",
         "legendgroup": "4 vezes",
         "marker": {
          "color": "#FFA15A",
          "pattern": {
           "shape": ""
          }
         },
         "name": "4 vezes",
         "orientation": "v",
         "showlegend": true,
         "textposition": "auto",
         "type": "bar",
         "x": [
          "Dia Ciência Semana Nacional C&T",
          "artigo revista público geral",
          "audiência pública",
          "aula oficina escola básica",
          "comissão técnica ou conselho prof.",
          "curso público externo",
          "entrevista jornal revista público geral",
          "evento ONG movimento social",
          "livro ou capítulo de divulgação",
          "midias digitais canal próprio",
          "palestra público geral",
          "programa mídias digitais",
          "release programa TV rádio",
          "visita guiada museu"
         ],
         "xaxis": "x",
         "y": {
          "bdata": "BQ0HBBENDAkKCAsLCQQ=",
          "dtype": "i1"
         },
         "yaxis": "y"
        },
        {
         "hovertemplate": "Frequência=5 vezes<br>Atividade=%{x}<br>Contagem=%{y}<extra></extra>",
         "legendgroup": "5 vezes",
         "marker": {
          "color": "#19d3f3",
          "pattern": {
           "shape": ""
          }
         },
         "name": "5 vezes",
         "orientation": "v",
         "showlegend": true,
         "textposition": "auto",
         "type": "bar",
         "x": [
          "Pint of Science",
          "artigo revista público geral",
          "aula oficina escola básica",
          "comissão técnica ou conselho prof.",
          "curso público externo",
          "entrevista jornal revista público geral",
          "evento ONG movimento social",
          "livro ou capítulo de divulgação",
          "midias digitais canal próprio",
          "palestra público geral",
          "programa mídias digitais",
          "release programa TV rádio",
          "visita guiada museu"
         ],
         "xaxis": "x",
         "y": {
          "bdata": "AgIECAIIAggHCQYDAw==",
          "dtype": "i1"
         },
         "yaxis": "y"
        },
        {
         "hovertemplate": "Frequência=mais de 5 vezes<br>Atividade=%{x}<br>Contagem=%{y}<extra></extra>",
         "legendgroup": "mais de 5 vezes",
         "marker": {
          "color": "#FF6692",
          "pattern": {
           "shape": ""
          }
         },
         "name": "mais de 5 vezes",
         "orientation": "v",
         "showlegend": true,
         "textposition": "auto",
         "type": "bar",
         "x": [
          "Dia Ciência Semana Nacional C&T",
          "Pint of Science",
          "artigo revista público geral",
          "audiência pública",
          "aula oficina escola básica",
          "comissão técnica ou conselho prof.",
          "curso público externo",
          "entrevista jornal revista público geral",
          "evento ONG movimento social",
          "livro ou capítulo de divulgação",
          "midias digitais canal próprio",
          "palestra público geral",
          "programa mídias digitais",
          "release programa TV rádio",
          "visita guiada museu"
         ],
         "xaxis": "x",
         "y": {
          "bdata": "DQYrAg4+MTAZIE1GPSYG",
          "dtype": "i1"
         },
         "yaxis": "y"
        }
       ],
       "layout": {
        "barmode": "relative",
        "legend": {
         "title": {
          "text": "Frequência"
         },
         "tracegroupgap": 0
        },
        "template": {
         "data": {
          "bar": [
           {
            "error_x": {
             "color": "#2a3f5f"
            },
            "error_y": {
             "color": "#2a3f5f"
            },
            "marker": {
             "line": {
              "color": "#E5ECF6",
              "width": 0.5
             },
             "pattern": {
              "fillmode": "overlay",
              "size": 10,
              "solidity": 0.2
             }
            },
            "type": "bar"
           }
          ],
          "barpolar": [
           {
            "marker": {
             "line": {
              "color": "#E5ECF6",
              "width": 0.5
             },
             "pattern": {
              "fillmode": "overlay",
              "size": 10,
              "solidity": 0.2
             }
            },
            "type": "barpolar"
           }
          ],
          "carpet": [
           {
            "aaxis": {
             "endlinecolor": "#2a3f5f",
             "gridcolor": "white",
             "linecolor": "white",
             "minorgridcolor": "white",
             "startlinecolor": "#2a3f5f"
            },
            "baxis": {
             "endlinecolor": "#2a3f5f",
             "gridcolor": "white",
             "linecolor": "white",
             "minorgridcolor": "white",
             "startlinecolor": "#2a3f5f"
            },
            "type": "carpet"
           }
          ],
          "choropleth": [
           {
            "colorbar": {
             "outlinewidth": 0,
             "ticks": ""
            },
            "type": "choropleth"
           }
          ],
          "contour": [
           {
            "colorbar": {
             "outlinewidth": 0,
             "ticks": ""
            },
            "colorscale": [
             [
              0,
              "#0d0887"
             ],
             [
              0.1111111111111111,
              "#46039f"
             ],
             [
              0.2222222222222222,
              "#7201a8"
             ],
             [
              0.3333333333333333,
              "#9c179e"
             ],
             [
              0.4444444444444444,
              "#bd3786"
             ],
             [
              0.5555555555555556,
              "#d8576b"
             ],
             [
              0.6666666666666666,
              "#ed7953"
             ],
             [
              0.7777777777777778,
              "#fb9f3a"
             ],
             [
              0.8888888888888888,
              "#fdca26"
             ],
             [
              1,
              "#f0f921"
             ]
            ],
            "type": "contour"
           }
          ],
          "contourcarpet": [
           {
            "colorbar": {
             "outlinewidth": 0,
             "ticks": ""
            },
            "type": "contourcarpet"
           }
          ],
          "heatmap": [
           {
            "colorbar": {
             "outlinewidth": 0,
             "ticks": ""
            },
            "colorscale": [
             [
              0,
              "#0d0887"
             ],
             [
              0.1111111111111111,
              "#46039f"
             ],
             [
              0.2222222222222222,
              "#7201a8"
             ],
             [
              0.3333333333333333,
              "#9c179e"
             ],
             [
              0.4444444444444444,
              "#bd3786"
             ],
             [
              0.5555555555555556,
              "#d8576b"
             ],
             [
              0.6666666666666666,
              "#ed7953"
             ],
             [
              0.7777777777777778,
              "#fb9f3a"
             ],
             [
              0.8888888888888888,
              "#fdca26"
             ],
             [
              1,
              "#f0f921"
             ]
            ],
            "type": "heatmap"
           }
          ],
          "histogram": [
           {
            "marker": {
             "pattern": {
              "fillmode": "overlay",
              "size": 10,
              "solidity": 0.2
             }
            },
            "type": "histogram"
           }
          ],
          "histogram2d": [
           {
            "colorbar": {
             "outlinewidth": 0,
             "ticks": ""
            },
            "colorscale": [
             [
              0,
              "#0d0887"
             ],
             [
              0.1111111111111111,
              "#46039f"
             ],
             [
              0.2222222222222222,
              "#7201a8"
             ],
             [
              0.3333333333333333,
              "#9c179e"
             ],
             [
              0.4444444444444444,
              "#bd3786"
             ],
             [
              0.5555555555555556,
              "#d8576b"
             ],
             [
              0.6666666666666666,
              "#ed7953"
             ],
             [
              0.7777777777777778,
              "#fb9f3a"
             ],
             [
              0.8888888888888888,
              "#fdca26"
             ],
             [
              1,
              "#f0f921"
             ]
            ],
            "type": "histogram2d"
           }
          ],
          "histogram2dcontour": [
           {
            "colorbar": {
             "outlinewidth": 0,
             "ticks": ""
            },
            "colorscale": [
             [
              0,
              "#0d0887"
             ],
             [
              0.1111111111111111,
              "#46039f"
             ],
             [
              0.2222222222222222,
              "#7201a8"
             ],
             [
              0.3333333333333333,
              "#9c179e"
             ],
             [
              0.4444444444444444,
              "#bd3786"
             ],
             [
              0.5555555555555556,
              "#d8576b"
             ],
             [
              0.6666666666666666,
              "#ed7953"
             ],
             [
              0.7777777777777778,
              "#fb9f3a"
             ],
             [
              0.8888888888888888,
              "#fdca26"
             ],
             [
              1,
              "#f0f921"
             ]
            ],
            "type": "histogram2dcontour"
           }
          ],
          "mesh3d": [
           {
            "colorbar": {
             "outlinewidth": 0,
             "ticks": ""
            },
            "type": "mesh3d"
           }
          ],
          "parcoords": [
           {
            "line": {
             "colorbar": {
              "outlinewidth": 0,
              "ticks": ""
             }
            },
            "type": "parcoords"
           }
          ],
          "pie": [
           {
            "automargin": true,
            "type": "pie"
           }
          ],
          "scatter": [
           {
            "fillpattern": {
             "fillmode": "overlay",
             "size": 10,
             "solidity": 0.2
            },
            "type": "scatter"
           }
          ],
          "scatter3d": [
           {
            "line": {
             "colorbar": {
              "outlinewidth": 0,
              "ticks": ""
             }
            },
            "marker": {
             "colorbar": {
              "outlinewidth": 0,
              "ticks": ""
             }
            },
            "type": "scatter3d"
           }
          ],
          "scattercarpet": [
           {
            "marker": {
             "colorbar": {
              "outlinewidth": 0,
              "ticks": ""
             }
            },
            "type": "scattercarpet"
           }
          ],
          "scattergeo": [
           {
            "marker": {
             "colorbar": {
              "outlinewidth": 0,
              "ticks": ""
             }
            },
            "type": "scattergeo"
           }
          ],
          "scattergl": [
           {
            "marker": {
             "colorbar": {
              "outlinewidth": 0,
              "ticks": ""
             }
            },
            "type": "scattergl"
           }
          ],
          "scattermap": [
           {
            "marker": {
             "colorbar": {
              "outlinewidth": 0,
              "ticks": ""
             }
            },
            "type": "scattermap"
           }
          ],
          "scattermapbox": [
           {
            "marker": {
             "colorbar": {
              "outlinewidth": 0,
              "ticks": ""
             }
            },
            "type": "scattermapbox"
           }
          ],
          "scatterpolar": [
           {
            "marker": {
             "colorbar": {
              "outlinewidth": 0,
              "ticks": ""
             }
            },
            "type": "scatterpolar"
           }
          ],
          "scatterpolargl": [
           {
            "marker": {
             "colorbar": {
              "outlinewidth": 0,
              "ticks": ""
             }
            },
            "type": "scatterpolargl"
           }
          ],
          "scatterternary": [
           {
            "marker": {
             "colorbar": {
              "outlinewidth": 0,
              "ticks": ""
             }
            },
            "type": "scatterternary"
           }
          ],
          "surface": [
           {
            "colorbar": {
             "outlinewidth": 0,
             "ticks": ""
            },
            "colorscale": [
             [
              0,
              "#0d0887"
             ],
             [
              0.1111111111111111,
              "#46039f"
             ],
             [
              0.2222222222222222,
              "#7201a8"
             ],
             [
              0.3333333333333333,
              "#9c179e"
             ],
             [
              0.4444444444444444,
              "#bd3786"
             ],
             [
              0.5555555555555556,
              "#d8576b"
             ],
             [
              0.6666666666666666,
              "#ed7953"
             ],
             [
              0.7777777777777778,
              "#fb9f3a"
             ],
             [
              0.8888888888888888,
              "#fdca26"
             ],
             [
              1,
              "#f0f921"
             ]
            ],
            "type": "surface"
           }
          ],
          "table": [
           {
            "cells": {
             "fill": {
              "color": "#EBF0F8"
             },
             "line": {
              "color": "white"
             }
            },
            "header": {
             "fill": {
              "color": "#C8D4E3"
             },
             "line": {
              "color": "white"
             }
            },
            "type": "table"
           }
          ]
         },
         "layout": {
          "annotationdefaults": {
           "arrowcolor": "#2a3f5f",
           "arrowhead": 0,
           "arrowwidth": 1
          },
          "autotypenumbers": "strict",
          "coloraxis": {
           "colorbar": {
            "outlinewidth": 0,
            "ticks": ""
           }
          },
          "colorscale": {
           "diverging": [
            [
             0,
             "#8e0152"
            ],
            [
             0.1,
             "#c51b7d"
            ],
            [
             0.2,
             "#de77ae"
            ],
            [
             0.3,
             "#f1b6da"
            ],
            [
             0.4,
             "#fde0ef"
            ],
            [
             0.5,
             "#f7f7f7"
            ],
            [
             0.6,
             "#e6f5d0"
            ],
            [
             0.7,
             "#b8e186"
            ],
            [
             0.8,
             "#7fbc41"
            ],
            [
             0.9,
             "#4d9221"
            ],
            [
             1,
             "#276419"
            ]
           ],
           "sequential": [
            [
             0,
             "#0d0887"
            ],
            [
             0.1111111111111111,
             "#46039f"
            ],
            [
             0.2222222222222222,
             "#7201a8"
            ],
            [
             0.3333333333333333,
             "#9c179e"
            ],
            [
             0.4444444444444444,
             "#bd3786"
            ],
            [
             0.5555555555555556,
             "#d8576b"
            ],
            [
             0.6666666666666666,
             "#ed7953"
            ],
            [
             0.7777777777777778,
             "#fb9f3a"
            ],
            [
             0.8888888888888888,
             "#fdca26"
            ],
            [
             1,
             "#f0f921"
            ]
           ],
           "sequentialminus": [
            [
             0,
             "#0d0887"
            ],
            [
             0.1111111111111111,
             "#46039f"
            ],
            [
             0.2222222222222222,
             "#7201a8"
            ],
            [
             0.3333333333333333,
             "#9c179e"
            ],
            [
             0.4444444444444444,
             "#bd3786"
            ],
            [
             0.5555555555555556,
             "#d8576b"
            ],
            [
             0.6666666666666666,
             "#ed7953"
            ],
            [
             0.7777777777777778,
             "#fb9f3a"
            ],
            [
             0.8888888888888888,
             "#fdca26"
            ],
            [
             1,
             "#f0f921"
            ]
           ]
          },
          "colorway": [
           "#636efa",
           "#EF553B",
           "#00cc96",
           "#ab63fa",
           "#FFA15A",
           "#19d3f3",
           "#FF6692",
           "#B6E880",
           "#FF97FF",
           "#FECB52"
          ],
          "font": {
           "color": "#2a3f5f"
          },
          "geo": {
           "bgcolor": "white",
           "lakecolor": "white",
           "landcolor": "#E5ECF6",
           "showlakes": true,
           "showland": true,
           "subunitcolor": "white"
          },
          "hoverlabel": {
           "align": "left"
          },
          "hovermode": "closest",
          "mapbox": {
           "style": "light"
          },
          "paper_bgcolor": "white",
          "plot_bgcolor": "#E5ECF6",
          "polar": {
           "angularaxis": {
            "gridcolor": "white",
            "linecolor": "white",
            "ticks": ""
           },
           "bgcolor": "#E5ECF6",
           "radialaxis": {
            "gridcolor": "white",
            "linecolor": "white",
            "ticks": ""
           }
          },
          "scene": {
           "xaxis": {
            "backgroundcolor": "#E5ECF6",
            "gridcolor": "white",
            "gridwidth": 2,
            "linecolor": "white",
            "showbackground": true,
            "ticks": "",
            "zerolinecolor": "white"
           },
           "yaxis": {
            "backgroundcolor": "#E5ECF6",
            "gridcolor": "white",
            "gridwidth": 2,
            "linecolor": "white",
            "showbackground": true,
            "ticks": "",
            "zerolinecolor": "white"
           },
           "zaxis": {
            "backgroundcolor": "#E5ECF6",
            "gridcolor": "white",
            "gridwidth": 2,
            "linecolor": "white",
            "showbackground": true,
            "ticks": "",
            "zerolinecolor": "white"
           }
          },
          "shapedefaults": {
           "line": {
            "color": "#2a3f5f"
           }
          },
          "ternary": {
           "aaxis": {
            "gridcolor": "white",
            "linecolor": "white",
            "ticks": ""
           },
           "baxis": {
            "gridcolor": "white",
            "linecolor": "white",
            "ticks": ""
           },
           "bgcolor": "#E5ECF6",
           "caxis": {
            "gridcolor": "white",
            "linecolor": "white",
            "ticks": ""
           }
          },
          "title": {
           "x": 0.05
          },
          "xaxis": {
           "automargin": true,
           "gridcolor": "white",
           "linecolor": "white",
           "ticks": "",
           "title": {
            "standoff": 15
           },
           "zerolinecolor": "white",
           "zerolinewidth": 2
          },
          "yaxis": {
           "automargin": true,
           "gridcolor": "white",
           "linecolor": "white",
           "ticks": "",
           "title": {
            "standoff": 15
           },
           "zerolinecolor": "white",
           "zerolinewidth": 2
          }
         }
        },
        "title": {
         "text": "Distribuição das Respostas por Atividade"
        },
        "xaxis": {
         "anchor": "y",
         "categoryarray": [
          "audiência pública",
          "visita guiada museu",
          "Pint of Science",
          "aula oficina escola básica",
          "evento ONG movimento social",
          "midias digitais canal próprio",
          "release programa TV rádio",
          "Dia Ciência Semana Nacional C&T",
          "livro ou capítulo de divulgação",
          "artigo revista público geral",
          "programa mídias digitais",
          "entrevista jornal revista público geral",
          "curso público externo",
          "comissão técnica ou conselho prof.",
          "palestra público geral"
         ],
         "categoryorder": "array",
         "domain": [
          0,
          1
         ],
         "title": {
          "text": "Atividade"
         }
        },
        "yaxis": {
         "anchor": "x",
         "domain": [
          0,
          1
         ],
         "title": {
          "text": "Contagem"
         }
        }
       }
      }
     },
     "metadata": {},
     "output_type": "display_data"
    }
   ],
   "source": [
    "# Exemplo de agregação dos dados\n",
    "dff_melted = dff.melt(value_vars=[col for col in dff.columns if col.startswith('adc1')], \n",
    "                    var_name='Atividade', value_name='Frequência')\n",
    "\n",
    "\n",
    "dff_melted['Atividade'] = dff_melted['Atividade'].map(varmap)\n",
    "\n",
    "dff_freq = dff_melted.groupby(['Atividade', 'Frequência']).size().reset_index(name='Contagem')\n",
    "\n",
    "# Garantir que a coluna 'Frequência' seja categórica e ordenada\n",
    "dff_freq['Frequência'] = pd.Categorical(\n",
    "    dff_freq['Frequência'], \n",
    "    categories=ordered_categories, \n",
    "    ordered=True\n",
    ")\n",
    "\n",
    "# Ordenar o DataFrame com base nas categorias\n",
    "dff_freq = dff_freq.sort_values(['Atividade', 'Frequência'])\n",
    "\n",
    "# Calcular a soma das contagens para \"Nenhuma vez\" em cada atividade\n",
    "order_by_nenhuma_vez = (\n",
    "    dff_freq[dff_freq['Frequência'] == 'Nenhuma vez']\n",
    "    .set_index('Atividade')['Contagem']\n",
    "    .sort_values(ascending=False)\n",
    ")\n",
    "\n",
    "# Ordenar as atividades com base na ordem decrescente de \"Nenhuma vez\"\n",
    "ordered_activities = order_by_nenhuma_vez.index.tolist()\n",
    "\n",
    "# Criar o gráfico com a ordem específica das atividades\n",
    "fig = px.bar(\n",
    "    dff_freq, \n",
    "    x='Atividade', \n",
    "    y='Contagem', \n",
    "    color='Frequência', \n",
    "    title='Distribuição das Respostas por Atividade',\n",
    "    category_orders={\n",
    "        'Frequência': ordered_categories,  # Ordem das categorias de frequência\n",
    "        'Atividade': ordered_activities    # Ordem das atividades\n",
    "    }\n",
    ")\n",
    "\n",
    "fig.show()"
   ]
  },
  {
   "cell_type": "code",
   "execution_count": 42,
   "id": "c331fdb4",
   "metadata": {},
   "outputs": [
    {
     "data": {
      "image/png": "[encoded data removed]",
      "text/plain": [
       "<Figure size 1400x1000 with 4 Axes>"
      ]
     },
     "metadata": {},
     "output_type": "display_data"
    }
   ],
   "source": [
    "# Reordenar a coluna adc1[SQ001] conforme a ordem desejada\n",
    "#ordered_categories = ['Nenhuma vez', '1 vez', '2 vezes', '3 vezes', '4 vezes', '5 vezes', 'mais de 5 vezes']\n",
    "#df.loc[:, 'adc1[SQ001]'] = pd.Categorical(df.loc[:, 'adc1[SQ001]'], categories=ordered_categories, ordered=True)\n",
    "\n",
    "# Criar tabela de contingência\n",
    "contingency_table = pd.crosstab(df['adc1[SQ001]'], df['CE07'])\n",
    "\n",
    "# Calcular o teste de qui-quadrado e obter os resíduos de Pearson\n",
    "chi2, p, dof, expected = chi2_contingency(contingency_table)\n",
    "residuals = (contingency_table - expected) / np.sqrt(expected)\n",
    "\n",
    "# Função para mapear a cor dos blocos com base nos resíduos de Pearson\n",
    "def residual_color(key):\n",
    "    value = residuals.loc[key[1], key[0]]  # Ajusta para o eixo correto\n",
    "    color = plt.cm.coolwarm(value)  # Mapeia o valor do residual para a cor\n",
    "    return {'color': color}\n",
    "\n",
    "# Criar uma nova figura com tamanho aumentado\n",
    "fig, ax = plt.subplots(figsize=(14, 10))  # Ajusta o tamanho conforme necessário\n",
    "\n",
    "# Criar o gráfico de mosaico\n",
    "mosaic(df, ['CE07', 'adc1[SQ001]'], properties=residual_color, ax=ax, gap=0.02, labelizer=lambda k: '')\n",
    "\n",
    "# Adicionar uma linha para separar os blocos\n",
    "# ax.grid(True, which='both', axis='both', color='black', linewidth=0.5)\n",
    "\n",
    "# Adicionar a legenda para as cores dos resíduos de Pearson\n",
    "sm = plt.cm.ScalarMappable(cmap='coolwarm', norm=plt.Normalize(vmin=residuals.min().min(), vmax=residuals.max().max()))\n",
    "sm.set_array([])\n",
    "cbar = plt.colorbar(sm, ax=ax)\n",
    "cbar.set_label('Residual de Pearson')\n",
    "\n",
    "# Ajustar os rótulos do eixo x\n",
    "ax.set_xticklabels(ax.get_xticklabels(), rotation=45)\n",
    "\n",
    "# Adicionar título ao gráfico\n",
    "ax.set_title('Relação entre Atividade adc1[SQ001] e Sexo', fontsize=16)\n",
    "\n",
    "plt.show()"
   ]
  },
  {
   "cell_type": "code",
   "execution_count": 23,
   "id": "f68e8afc",
   "metadata": {},
   "outputs": [],
   "source": [
    "def plot_mosaic(df, activity_col, interest_var):\n",
    "    \"\"\"\n",
    "    Plota um gráfico de mosaico para a coluna de atividade e a variável de interesse.\n",
    "\n",
    "    Parâmetros:\n",
    "    df (pd.DataFrame): DataFrame contendo os dados.\n",
    "    activity_col (str): Nome da coluna de atividade para plotar.\n",
    "    interest_var (str): Nome da variável de interesse para plotar.\n",
    "    ordered_categories (list, opcional): Lista de categorias ordenadas para a coluna de atividade.\n",
    "    \"\"\"\n",
    "    \n",
    "    ordered_categories = ['Nenhuma vez', '1 vez', '2 vezes', '3 vezes', '4 vezes', '5 vezes', 'mais de 5 vezes']\n",
    "\n",
    "    # Verificar e aplicar categorias ordenadas\n",
    "    if ordered_categories:\n",
    "        df[activity_col] = pd.Categorical(df[activity_col], categories=ordered_categories, ordered=True)\n",
    "\n",
    "    # Criar tabela de contingência\n",
    "    contingency_table = pd.crosstab(df[activity_col], df[interest_var])\n",
    "    contingency_table = contingency_table.reindex(ordered_categories, axis=0)\n",
    "\n",
    "    # Calcular o teste de qui-quadrado e obter os resíduos de Pearson\n",
    "    chi2, p, dof, expected = chi2_contingency(contingency_table)\n",
    "    residuals = (contingency_table - expected) / np.sqrt(expected)\n",
    "\n",
    "    # Função para mapear a cor dos blocos com base nos resíduos de Pearson\n",
    "    def residual_color(key):\n",
    "        if key[1] in residuals.index and key[0] in residuals.columns:\n",
    "            value = residuals.loc[key[1], key[0]]  # Ajusta para o eixo correto\n",
    "            color = plt.cm.coolwarm(value)  # Mapeia o valor do residual para a cor\n",
    "            return {'color': color}\n",
    "        else:\n",
    "            return {'color': 'grey'}  # Cor padrão para valores fora da tabela\n",
    "\n",
    "    # Criar uma nova figura com tamanho aumentado\n",
    "    fig, ax = plt.subplots(figsize=(14, 10))  # Ajuste o tamanho conforme necessário\n",
    "\n",
    "    # Criar o gráfico de mosaico\n",
    "    mosaic(df, [interest_var, activity_col], properties=residual_color, ax=ax, gap=0.02, labelizer=lambda k: '')\n",
    "\n",
    "    # Adicionar a legenda para as cores dos resíduos de Pearson\n",
    "    sm = plt.cm.ScalarMappable(cmap='coolwarm', norm=plt.Normalize(vmin=residuals.min().min(), vmax=residuals.max().max()))\n",
    "    sm.set_array([])\n",
    "    cbar = plt.colorbar(sm, ax=ax)\n",
    "    cbar.set_label('Residual de Pearson')\n",
    "\n",
    "    # Ajustar os rótulos do eixo x\n",
    "    ax.set_xticklabels(ax.get_xticklabels(), rotation=45)\n",
    "\n",
    "    # Adicionar título ao gráfico\n",
    "    ax.set_title(f'Relação entre {activity_col} e {interest_var}', fontsize=16)\n",
    "\n",
    "    plt.show()"
   ]
  },
  {
   "cell_type": "code",
   "execution_count": 24,
   "id": "0caacc15",
   "metadata": {},
   "outputs": [
    {
     "name": "stderr",
     "output_type": "stream",
     "text": [
      "C:\\Users\\MAPERE~1\\AppData\\Local\\Temp/ipykernel_21744/2914412568.py:16: SettingWithCopyWarning: \n",
      "A value is trying to be set on a copy of a slice from a DataFrame.\n",
      "Try using .loc[row_indexer,col_indexer] = value instead\n",
      "\n",
      "See the caveats in the documentation: https://pandas.pydata.org/pandas-docs/stable/user_guide/indexing.html#returning-a-view-versus-a-copy\n",
      "  df[activity_col] = pd.Categorical(df[activity_col], categories=ordered_categories, ordered=True)\n"
     ]
    },
    {
     "data": {
      "image/png": "[encoded data removed]",
      "text/plain": [
       "<Figure size 1008x720 with 4 Axes>"
      ]
     },
     "metadata": {
      "needs_background": "light"
     },
     "output_type": "display_data"
    }
   ],
   "source": [
    "plot_mosaic(df, 'adc1[SQ001]', 'CE08')\n"
   ]
  },
  {
   "cell_type": "code",
   "execution_count": 21,
   "id": "cc77ccbe",
   "metadata": {},
   "outputs": [
    {
     "name": "stderr",
     "output_type": "stream",
     "text": [
      "c:\\ProgramData\\Anaconda3\\lib\\site-packages\\pandas\\core\\indexing.py:1773: SettingWithCopyWarning: \n",
      "A value is trying to be set on a copy of a slice from a DataFrame.\n",
      "Try using .loc[row_indexer,col_indexer] = value instead\n",
      "\n",
      "See the caveats in the documentation: https://pandas.pydata.org/pandas-docs/stable/user_guide/indexing.html#returning-a-view-versus-a-copy\n",
      "  self._setitem_single_column(ilocs[0], value, pi)\n"
     ]
    }
   ],
   "source": [
    "ordered_categories = ['Nenhuma vez', '1 vez', '2 vezes', '3 vezes', '4 vezes', '5 vezes', 'mais de 5 vezes']\n",
    "\n",
    "df.loc[:, 'adc1[SQ001]'] = pd.Categorical(df.loc[:, 'adc1[SQ001]'], categories=ordered_categories, ordered=True)"
   ]
  },
  {
   "cell_type": "code",
   "execution_count": 22,
   "id": "e2acbde4",
   "metadata": {},
   "outputs": [
    {
     "data": {
      "text/plain": [
       "[NaN, 'mais de 5 vezes', '2 vezes', 'Nenhuma vez', '4 vezes', '3 vezes', '1 vez', '5 vezes']\n",
       "Categories (7, object): ['Nenhuma vez' < '1 vez' < '2 vezes' < '3 vezes' < '4 vezes' < '5 vezes' < 'mais de 5 vezes']"
      ]
     },
     "execution_count": 22,
     "metadata": {},
     "output_type": "execute_result"
    }
   ],
   "source": [
    "df['adc1[SQ001]'].unique()"
   ]
  },
  {
   "cell_type": "code",
   "execution_count": 46,
   "id": "7f082953",
   "metadata": {},
   "outputs": [],
   "source": [
    "import numpy as np\n",
    "import pandas as pd\n",
    "import matplotlib.pyplot as plt\n",
    "from statsmodels.graphics.mosaicplot import mosaic\n",
    "from scipy.stats import chi2_contingency\n",
    "from io import BytesIO\n",
    "import base64\n",
    "\n",
    "def plot_mosaic(df, activity_col, interest_var, ordered_categories=None):\n",
    "\n",
    "    ordered_categories = ['Nenhuma vez', '1 vez', '2 vezes', '3 vezes', '4 vezes', '5 vezes', 'mais de 5 vezes']\n",
    "    \n",
    "    # Verificar e aplicar categorias ordenadas\n",
    "    if ordered_categories:\n",
    "        df[activity_col] = pd.Categorical(df[activity_col], categories=ordered_categories, ordered=True)\n",
    "\n",
    "    # Criar tabela de contingência\n",
    "    contingency_table = pd.crosstab(df[activity_col], df[interest_var])\n",
    "    contingency_table = contingency_table.reindex(ordered_categories, axis=0)\n",
    "\n",
    "    # Calcular o teste de qui-quadrado e obter os resíduos de Pearson\n",
    "    chi2_stat, p, dof, expected = chi2_contingency(contingency_table)\n",
    "    residuals = (contingency_table - expected) / np.sqrt(expected)\n",
    "\n",
    "    # Pontos de corte para o esquema de coloração\n",
    "    cutoff_05 = 2\n",
    "    cutoff_001 = 4\n",
    "\n",
    "    # Função para mapear a cor dos blocos com base nos resíduos de Pearson\n",
    "    def residual_color(key):\n",
    "        if key[1] in residuals.index and key[0] in residuals.columns:\n",
    "            value = residuals.loc[key[1], key[0]]  # Ajusta para o eixo correto\n",
    "            if value >= cutoff_001:\n",
    "                return {'color': 'red'}\n",
    "            elif value >= cutoff_05:\n",
    "                return {'color': 'lightcoral'}  # Substituindo por uma cor mais intensa\n",
    "            elif value <= -cutoff_001:\n",
    "                return {'color': 'blue'}\n",
    "            elif value <= -cutoff_05:\n",
    "                return {'color': 'dodgerblue'}  # Substituindo por uma cor mais intensa\n",
    "            else:\n",
    "                return {'color': 'lightgrey'}  # Cor neutra para resíduos não significativos\n",
    "        else:\n",
    "            return {'color': 'lightgrey'}  # Cor padrão para valores fora da tabela\n",
    "\n",
    "    # Criar uma nova figura com tamanho aumentado\n",
    "    fig, ax = plt.subplots(figsize=(14, 10))  # Ajuste o tamanho conforme necessário\n",
    "\n",
    "    # Criar o gráfico de mosaico\n",
    "    mosaic(df, [interest_var, activity_col], properties=residual_color, ax=ax, gap=0.02, labelizer=lambda k: '')\n",
    "\n",
    "    # Adicionar a legenda para as cores dos resíduos de Pearson\n",
    "    bounds = [-cutoff_001, -cutoff_05, cutoff_05, cutoff_001]\n",
    "    cmap = plt.cm.RdBu_r  # Colormap invertido para ter azul para valores negativos e vermelho para positivos\n",
    "    norm = plt.Normalize(vmin=-cutoff_001, vmax=cutoff_001)\n",
    "\n",
    "    sm = plt.cm.ScalarMappable(cmap=cmap, norm=norm)\n",
    "    sm.set_array([])\n",
    "\n",
    "    # Configurando a barra de cores com ticks personalizados\n",
    "    cbar = plt.colorbar(sm, ax=ax, ticks=[-cutoff_001, -cutoff_05, cutoff_05, cutoff_001])\n",
    "    cbar.ax.set_yticklabels(['<= -4', '-2', '2', '>= 4'])  # Labels nos limites de ±2 e ±4\n",
    "\n",
    "    # Adicionar valor de p abaixo da barra de cores\n",
    "    cbar.ax.text(0.5, -0.1, f'p-valor: {p:.3f}', transform=cbar.ax.transAxes, fontsize=12, \n",
    "                 verticalalignment='top', horizontalalignment='center', \n",
    "                 bbox=dict(facecolor='white', edgecolor='black', boxstyle='round,pad=0.5'))\n",
    "\n",
    "    # Ajustar os rótulos do eixo x\n",
    "    ax.set_xticklabels(ax.get_xticklabels(), rotation=45)\n",
    "\n",
    "    # Adicionar título ao gráfico\n",
    "    ax.set_title(f'Relação entre {activity_col} e {interest_var}', fontsize=16)\n",
    "\n",
    "    # Salvar em um buffer temporário\n",
    "    buf = BytesIO()\n",
    "    plt.savefig(buf, format=\"png\")\n",
    "    # Embutir o resultado na saída HTML\n",
    "    data = base64.b64encode(buf.getbuffer()).decode(\"utf8\")\n",
    "    fig_mosaic_matplotlib = f'data:image/png;base64,{data}'\n",
    "\n",
    "    return fig_mosaic_matplotlib"
   ]
  },
  {
   "cell_type": "code",
   "execution_count": 48,
   "id": "08356c75",
   "metadata": {},
   "outputs": [],
   "source": [
    "ordered_categories = ['Nenhuma vez', '1 vez', '2 vezes', '3 vezes', '4 vezes', '5 vezes', 'mais de 5 vezes']"
   ]
  },
  {
   "cell_type": "code",
   "execution_count": 50,
   "id": "18f199b5",
   "metadata": {},
   "outputs": [
    {
     "name": "stderr",
     "output_type": "stream",
     "text": [
      "C:\\Users\\mapereira\\AppData\\Local\\Temp\\ipykernel_9344\\3432918112.py:15: SettingWithCopyWarning:\n",
      "\n",
      "\n",
      "A value is trying to be set on a copy of a slice from a DataFrame.\n",
      "Try using .loc[row_indexer,col_indexer] = value instead\n",
      "\n",
      "See the caveats in the documentation: https://pandas.pydata.org/pandas-docs/stable/user_guide/indexing.html#returning-a-view-versus-a-copy\n",
      "\n"
     ]
    },
    {
     "data": {
      "text/plain": [
       "'data:image/png;base64,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'"
      ]
     },
     "execution_count": 50,
     "metadata": {},
     "output_type": "execute_result"
    },
    {
     "data": {
      "image/png": "[encoded data removed]",
      "text/plain": [
       "<Figure size 1400x1000 with 4 Axes>"
      ]
     },
     "metadata": {},
     "output_type": "display_data"
    }
   ],
   "source": [
    "plot_mosaic(df, 'adc1[SQ001]', 'CE07', ordered_categories)"
   ]
  },
  {
   "cell_type": "code",
   "execution_count": 20,
   "id": "2c60f057",
   "metadata": {},
   "outputs": [],
   "source": [
    "import pandas as pd\n",
    "import numpy as np\n",
    "import matplotlib.pyplot as plt\n",
    "from statsmodels.graphics.mosaicplot import mosaic\n",
    "from scipy.stats import chi2_contingency\n",
    "from io import BytesIO\n",
    "import base64\n",
    "\n",
    "def plot_mosaic(df, activity_col, interest_var):\n",
    "\n",
    "    ordered_categories = ['Nenhuma vez', '1 vez', '2 vezes', '3 vezes', '4 vezes', '5 vezes', 'mais de 5 vezes']\n",
    "\n",
    "    # Verificar e aplicar categorias ordenadas\n",
    "    if ordered_categories:\n",
    "        df[activity_col] = pd.Categorical(df[activity_col], categories=ordered_categories, ordered=True)\n",
    "\n",
    "    # Criar uma nova coluna que representa a ordem das categorias\n",
    "    df['activity_order'] = df[activity_col].apply(lambda x: ordered_categories.index(x))\n",
    "\n",
    "    # Ordenar o DataFrame pela nova coluna\n",
    "    df = df.sort_values('activity_order')\n",
    "\n",
    "    # Criar tabela de contingência\n",
    "    contingency_table = pd.crosstab(df[activity_col], df[interest_var])\n",
    "\n",
    "    # Calcular o teste de qui-quadrado e obter os resíduos de Pearson\n",
    "    chi2_stat, p, dof, expected = chi2_contingency(contingency_table)\n",
    "    residuals = (contingency_table - expected) / np.sqrt(expected)\n",
    "\n",
    "    # Pontos de corte para o esquema de coloração\n",
    "    cutoff_05 = 2\n",
    "    cutoff_001 = 4\n",
    "\n",
    "    # Função para mapear a cor dos blocos com base nos resíduos de Pearson\n",
    "    def residual_color(key):\n",
    "        if key[1] in residuals.index and key[0] in residuals.columns:\n",
    "            value = residuals.loc[key[1], key[0]]  # Ajusta para o eixo correto\n",
    "            if value >= cutoff_001:\n",
    "                return {'color': 'red'}\n",
    "            elif value >= cutoff_05:\n",
    "                return {'color': 'lightcoral'}  # Substituindo por uma cor mais intensa\n",
    "            elif value <= -cutoff_001:\n",
    "                return {'color': 'blue'}\n",
    "            elif value <= -cutoff_05:\n",
    "                return {'color': 'dodgerblue'}  # Substituindo por uma cor mais intensa\n",
    "            else:\n",
    "                return {'color': 'lightgrey'}  # Cor neutra para resíduos não significativos\n",
    "        else:\n",
    "            return {'color': 'lightgrey'}  # Cor padrão para valores fora da tabela\n",
    "\n",
    "    # Criar uma nova figura com tamanho aumentado\n",
    "    fig, ax = plt.subplots(figsize=(14, 10))  # Ajuste o tamanho conforme necessário\n",
    "\n",
    "    # Criar o gráfico de mosaico\n",
    "    mosaic(df, [interest_var, activity_col], properties=residual_color, ax=ax, gap=0.02, labelizer=lambda k: '')\n",
    "\n",
    "    # Adicionar a legenda para as cores dos resíduos de Pearson\n",
    "    bounds = [-cutoff_001, -cutoff_05, cutoff_05, cutoff_001]\n",
    "    cmap = plt.cm.RdBu_r  # Colormap invertido para ter azul para valores negativos e vermelho para positivos\n",
    "    norm = plt.Normalize(vmin=-cutoff_001, vmax=cutoff_001)\n",
    "\n",
    "    sm = plt.cm.ScalarMappable(cmap=cmap, norm=norm)\n",
    "    sm.set_array([])\n",
    "\n",
    "    # Configurando a barra de cores com ticks personalizados\n",
    "    cbar = plt.colorbar(sm, ax=ax, ticks=[-cutoff_001, -cutoff_05, cutoff_05, cutoff_001])\n",
    "    cbar.ax.set_yticklabels(['<= -4', '-2', '2', '>= 4'])  # Labels nos limites de ±2 e ±4\n",
    "\n",
    "    # Adicionar valor de p abaixo da barra de cores\n",
    "    cbar.ax.text(0.5, -0.1, f'p-valor: {p:.3f}', transform=cbar.ax.transAxes, fontsize=12, \n",
    "                 verticalalignment='top', horizontalalignment='center', \n",
    "                 bbox=dict(facecolor='white', edgecolor='black', boxstyle='round,pad=0.5'))\n",
    "\n",
    "    # Ajustar os rótulos do eixo x\n",
    "    ax.set_xticklabels(ax.get_xticklabels(), rotation=45)\n",
    "\n",
    "    # Adicionar título ao gráfico\n",
    "    # ax.set_title(f'Relação entre {activity_col} e {interest_var}', fontsize=16)\n",
    "\n",
    "    # Reposicionar a barra de legenda\n",
    "    fig.subplots_adjust(left=0.1, right=0.8, top=0.95, bottom=0.15)\n",
    "    cbar.ax.set_position([0.85, 0.15, 0.03, 0.8])  # left, bottom, width, height\n",
    "\n",
    "    # Salvar em um buffer temporário\n",
    "    buf = BytesIO()\n",
    "    plt.savefig(buf, format=\"png\")\n",
    "    # Embutir o resultado na saída HTML\n",
    "    data = base64.b64encode(buf.getbuffer()).decode(\"utf8\")\n",
    "    fig_mosaic_matplotlib = f'data:image/png;base64,{data}'\n",
    "\n",
    "    return fig_mosaic_matplotlib\n"
   ]
  },
  {
   "cell_type": "code",
   "execution_count": 21,
   "id": "68a1cf66",
   "metadata": {},
   "outputs": [
    {
     "name": "stderr",
     "output_type": "stream",
     "text": [
      "C:\\Users\\MAPERE~1\\AppData\\Local\\Temp/ipykernel_13000/3061839162.py:15: SettingWithCopyWarning: \n",
      "A value is trying to be set on a copy of a slice from a DataFrame.\n",
      "Try using .loc[row_indexer,col_indexer] = value instead\n",
      "\n",
      "See the caveats in the documentation: https://pandas.pydata.org/pandas-docs/stable/user_guide/indexing.html#returning-a-view-versus-a-copy\n",
      "  df[activity_col] = pd.Categorical(df[activity_col], categories=ordered_categories, ordered=True)\n",
      "C:\\Users\\MAPERE~1\\AppData\\Local\\Temp/ipykernel_13000/3061839162.py:18: SettingWithCopyWarning: \n",
      "A value is trying to be set on a copy of a slice from a DataFrame.\n",
      "Try using .loc[row_indexer,col_indexer] = value instead\n",
      "\n",
      "See the caveats in the documentation: https://pandas.pydata.org/pandas-docs/stable/user_guide/indexing.html#returning-a-view-versus-a-copy\n",
      "  df['activity_order'] = df[activity_col].apply(lambda x: ordered_categories.index(x))\n"
     ]
    },
    {
     "data": {
      "text/plain": [
       "'data:image/png;base64,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'"
      ]
     },
     "execution_count": 21,
     "metadata": {},
     "output_type": "execute_result"
    },
    {
     "data": {
      "image/png": "[encoded data removed]",
      "text/plain": [
       "<Figure size 1008x720 with 4 Axes>"
      ]
     },
     "metadata": {
      "needs_background": "light"
     },
     "output_type": "display_data"
    }
   ],
   "source": [
    "plot_mosaic(df, 'adc1[SQ001]', 'CE07')"
   ]
  },
  {
   "cell_type": "code",
   "execution_count": 38,
   "id": "b5a8e528",
   "metadata": {},
   "outputs": [
    {
     "data": {
      "image/png": "[encoded data removed]",
      "text/plain": [
       "<Figure size 720x432 with 4 Axes>"
      ]
     },
     "metadata": {
      "needs_background": "light"
     },
     "output_type": "display_data"
    }
   ],
   "source": [
    "import pandas as pd\n",
    "import matplotlib.pyplot as plt\n",
    "from statsmodels.graphics.mosaicplot import mosaic\n",
    "from scipy.stats import chi2_contingency\n",
    "import numpy as np\n",
    "from io import BytesIO\n",
    "import base64\n",
    "\n",
    "# Create a sample DataFrame\n",
    "data = {\n",
    "    'adc1[SQ001]': ['1 time', '2 times', 'Never', 'more than 5 times', 'Never',\n",
    "                     '3 times', 'Never', 'Never', 'Never', '1 time',\n",
    "                     '1 time', 'Never', 'Never', '3 times', 'more than 5 times',\n",
    "                     '1 time', 'more than 5 times', '1 time', 'Never', '4 times'],\n",
    "    'CE11': ['Exact and Earth Sciences', 'Human Sciences', 'Health Sciences', \n",
    "             'Linguistics, Letters and Arts', 'Exact and Earth Sciences', 'Agrarian Sciences',\n",
    "             'Biological Sciences', 'Exact and Earth Sciences', 'Agrarian Sciences',\n",
    "             'Engineering', 'Health Sciences', 'Biological Sciences', 'Engineering',\n",
    "             'Human Sciences', 'Biological Sciences', 'Exact and Earth Sciences',\n",
    "             'Human Sciences', 'Agrarian Sciences', 'Health Sciences',\n",
    "             'Exact and Earth Sciences']\n",
    "}\n",
    "\n",
    "df = pd.DataFrame(data)\n",
    "\n",
    "# Define ordered categories\n",
    "ordered_categories = ['Never', '1 time', '2 times', '3 times', '4 times', '5 times', 'more than 5 times']\n",
    "\n",
    "# Convert the column to an ordered categorical type\n",
    "df['adc1[SQ001]'] = pd.Categorical(df['adc1[SQ001]'], categories=ordered_categories, ordered=True)\n",
    "\n",
    "# Create the contingency table\n",
    "contingency_table = pd.crosstab(df['adc1[SQ001]'], df['CE11'])\n",
    "contingency_table = contingency_table.reindex(ordered_categories, axis=0)\n",
    "\n",
    "# Calculate the chi-square test\n",
    "chi2_stat, p, dof, expected = chi2_contingency(contingency_table)\n",
    "residuals = (contingency_table - expected) / np.sqrt(expected)\n",
    "\n",
    "# Function to map block colors based on Pearson residuals\n",
    "def residual_color(key):\n",
    "    if key[1] in residuals.index and key[0] in residuals.columns:\n",
    "        value = residuals.loc[key[1], key[0]]\n",
    "        if value >= 4:\n",
    "            return {'color': 'red'}\n",
    "        elif value >= 2:\n",
    "            return {'color': 'lightcoral'}\n",
    "        elif value <= -4:\n",
    "            return {'color': 'blue'}\n",
    "        elif value <= -2:\n",
    "            return {'color': 'dodgerblue'}\n",
    "        else:\n",
    "            return {'color': 'lightgrey'}\n",
    "    else:\n",
    "        return {'color': 'lightgrey'}\n",
    "\n",
    "# Create the mosaic plot\n",
    "fig, ax = plt.subplots(figsize=(10, 6))\n",
    "mosaic(df, ['CE11', 'adc1[SQ001]'], properties=residual_color, ax=ax, gap=0.02, labelizer=lambda k: '')\n",
    "\n",
    "# Add a color legend for Pearson residuals\n",
    "bounds = [-4, -2, 2, 4]\n",
    "cmap = plt.cm.RdBu_r\n",
    "norm = plt.Normalize(vmin=-4, vmax=4)\n",
    "\n",
    "sm = plt.cm.ScalarMappable(cmap=cmap, norm=norm)\n",
    "sm.set_array([])\n",
    "cbar = plt.colorbar(sm, ax=ax, ticks=[-4, -2, 2, 4])\n",
    "cbar.ax.set_yticklabels(['<= -4', '-2', '2', '>= 4'])\n",
    "cbar.ax.text(0.5, -0.1, f'p-value: {p:.3f}', transform=cbar.ax.transAxes, fontsize=12, \n",
    "             verticalalignment='top', horizontalalignment='center', \n",
    "             bbox=dict(facecolor='white', edgecolor='black', boxstyle='round,pad=0.5'))\n",
    "\n",
    "# Adjust x-axis labels\n",
    "ax.set_xticklabels(ax.get_xticklabels(), rotation=45)\n",
    "\n",
    "# Show the plot\n",
    "plt.show()\n"
   ]
  },
  {
   "cell_type": "code",
   "execution_count": 34,
   "id": "5548519b",
   "metadata": {},
   "outputs": [
    {
     "data": {
      "text/plain": [
       "['palestra público geral',\n",
       " 'curso público externo',\n",
       " 'aula oficina escola básica',\n",
       " 'comissão técnica ou conselho prof.',\n",
       " 'Pint of Science',\n",
       " 'Dia Ciência Semana Nacional C&T',\n",
       " 'evento ONG movimento social',\n",
       " 'artigo revista público geral',\n",
       " 'entrevista jornal revista público geral',\n",
       " 'livro ou capítulo de divulgação',\n",
       " 'release programa TV rádio',\n",
       " 'audiência pública',\n",
       " 'visita guiada museu',\n",
       " 'programa mídias digitais',\n",
       " 'midias digitais canal próprio']"
      ]
     },
     "execution_count": 34,
     "metadata": {},
     "output_type": "execute_result"
    }
   ],
   "source": [
    "[value for key, value in varmap.items() if \"adc1[SQ\" in key]"
   ]
  },
  {
   "cell_type": "code",
   "execution_count": 2,
   "id": "51299abe",
   "metadata": {},
   "outputs": [],
   "source": [
    "import pandas as pd\n",
    "import re"
   ]
  },
  {
   "cell_type": "code",
   "execution_count": 3,
   "id": "5d6831a0",
   "metadata": {},
   "outputs": [
    {
     "data": {
      "text/html": [
       "<div>\n",
       "<style scoped>\n",
       "    .dataframe tbody tr th:only-of-type {\n",
       "        vertical-align: middle;\n",
       "    }\n",
       "\n",
       "    .dataframe tbody tr th {\n",
       "        vertical-align: top;\n",
       "    }\n",
       "\n",
       "    .dataframe thead th {\n",
       "        text-align: right;\n",
       "    }\n",
       "</style>\n",
       "<table border=\"1\" class=\"dataframe\">\n",
       "  <thead>\n",
       "    <tr style=\"text-align: right;\">\n",
       "      <th></th>\n",
       "      <th>VAL01[SQ001]</th>\n",
       "      <th>VAL01[SQ002]</th>\n",
       "      <th>VAL01[SQ003]</th>\n",
       "      <th>VAL01[SQ004]</th>\n",
       "      <th>VAL01[SQ005]</th>\n",
       "      <th>VAL01[SQ006]</th>\n",
       "      <th>VAL01[SQ007]</th>\n",
       "      <th>VAL01[SQ008]</th>\n",
       "      <th>VAL01[SQ009]</th>\n",
       "      <th>VAL01[SQ010]</th>\n",
       "      <th>...</th>\n",
       "      <th>adc1[SQ013]</th>\n",
       "      <th>adc1[SQ014]</th>\n",
       "      <th>adc1[SQ015]</th>\n",
       "      <th>adc3[SQ001]</th>\n",
       "      <th>adc3[SQ002]</th>\n",
       "      <th>adc3[SQ003]</th>\n",
       "      <th>adc3[SQ004]</th>\n",
       "      <th>adc6[SQ001]</th>\n",
       "      <th>adc6[SQ002]</th>\n",
       "      <th>adc6[SQ003]</th>\n",
       "    </tr>\n",
       "  </thead>\n",
       "  <tbody>\n",
       "    <tr>\n",
       "      <th>0</th>\n",
       "      <td>Pertenço, mas não frequento muito</td>\n",
       "      <td>Não pertenço</td>\n",
       "      <td>Pertenço e frequento</td>\n",
       "      <td>Pertenço, mas não frequento muito</td>\n",
       "      <td>Não pertenço</td>\n",
       "      <td>Pertenço e frequento</td>\n",
       "      <td>Pertenço e frequento</td>\n",
       "      <td>Pertenço e frequento</td>\n",
       "      <td>Não pertenço</td>\n",
       "      <td>Não pertenço</td>\n",
       "      <td>...</td>\n",
       "      <td>3 vezes</td>\n",
       "      <td>mais de 5 vezes</td>\n",
       "      <td>mais de 5 vezes</td>\n",
       "      <td>Muito importante</td>\n",
       "      <td>Muito importante</td>\n",
       "      <td>Muito importante</td>\n",
       "      <td>Muito importante</td>\n",
       "      <td>Frequentemente</td>\n",
       "      <td>Raramente</td>\n",
       "      <td>Raramente</td>\n",
       "    </tr>\n",
       "    <tr>\n",
       "      <th>1</th>\n",
       "      <td>Não pertenço</td>\n",
       "      <td>Não pertenço</td>\n",
       "      <td>Não pertenço</td>\n",
       "      <td>Pertenço, mas não frequento muito</td>\n",
       "      <td>Não pertenço</td>\n",
       "      <td>Não pertenço</td>\n",
       "      <td>Pertenço e frequento</td>\n",
       "      <td>Não pertenço</td>\n",
       "      <td>Não pertenço</td>\n",
       "      <td>Não pertenço</td>\n",
       "      <td>...</td>\n",
       "      <td>Nenhuma vez</td>\n",
       "      <td>mais de 5 vezes</td>\n",
       "      <td>Nenhuma vez</td>\n",
       "      <td>Muito importante</td>\n",
       "      <td>Pouco importante</td>\n",
       "      <td>Muito importante</td>\n",
       "      <td>Importante</td>\n",
       "      <td>Frequentemente</td>\n",
       "      <td>Frequentemente</td>\n",
       "      <td>Raramente</td>\n",
       "    </tr>\n",
       "    <tr>\n",
       "      <th>2</th>\n",
       "      <td>Não pertenço</td>\n",
       "      <td>Não pertenço</td>\n",
       "      <td>Não pertenço</td>\n",
       "      <td>Não pertenço</td>\n",
       "      <td>Não pertenço</td>\n",
       "      <td>Não pertenço</td>\n",
       "      <td>Não pertenço</td>\n",
       "      <td>Não pertenço</td>\n",
       "      <td>Não pertenço</td>\n",
       "      <td>Não pertenço</td>\n",
       "      <td>...</td>\n",
       "      <td>Nenhuma vez</td>\n",
       "      <td>Nenhuma vez</td>\n",
       "      <td>Nenhuma vez</td>\n",
       "      <td>Muito importante</td>\n",
       "      <td>Importante</td>\n",
       "      <td>Importante</td>\n",
       "      <td>Nada importante</td>\n",
       "      <td>Raramente</td>\n",
       "      <td>Raramente</td>\n",
       "      <td>Raramente</td>\n",
       "    </tr>\n",
       "    <tr>\n",
       "      <th>3</th>\n",
       "      <td>Não pertenço</td>\n",
       "      <td>Não pertenço</td>\n",
       "      <td>Não pertenço</td>\n",
       "      <td>Não pertenço</td>\n",
       "      <td>Não pertenço</td>\n",
       "      <td>Não pertenço</td>\n",
       "      <td>Pertenço, mas não frequento muito</td>\n",
       "      <td>Não pertenço</td>\n",
       "      <td>Não pertenço</td>\n",
       "      <td>Não pertenço</td>\n",
       "      <td>...</td>\n",
       "      <td>Nenhuma vez</td>\n",
       "      <td>mais de 5 vezes</td>\n",
       "      <td>mais de 5 vezes</td>\n",
       "      <td>Muito importante</td>\n",
       "      <td>Importante</td>\n",
       "      <td>Muito importante</td>\n",
       "      <td>Muito importante</td>\n",
       "      <td>Raramente</td>\n",
       "      <td>Frequentemente</td>\n",
       "      <td>Frequentemente</td>\n",
       "    </tr>\n",
       "    <tr>\n",
       "      <th>4</th>\n",
       "      <td>Não pertenço</td>\n",
       "      <td>Não pertenço</td>\n",
       "      <td>Não pertenço</td>\n",
       "      <td>Não pertenço</td>\n",
       "      <td>Não pertenço</td>\n",
       "      <td>Não pertenço</td>\n",
       "      <td>Não pertenço</td>\n",
       "      <td>Pertenço, mas não frequento muito</td>\n",
       "      <td>Não pertenço</td>\n",
       "      <td>Não pertenço</td>\n",
       "      <td>...</td>\n",
       "      <td>Nenhuma vez</td>\n",
       "      <td>1 vez</td>\n",
       "      <td>1 vez</td>\n",
       "      <td>Muito importante</td>\n",
       "      <td>Importante</td>\n",
       "      <td>Importante</td>\n",
       "      <td>Nada importante</td>\n",
       "      <td>Nunca</td>\n",
       "      <td>Raramente</td>\n",
       "      <td>Raramente</td>\n",
       "    </tr>\n",
       "  </tbody>\n",
       "</table>\n",
       "<p>5 rows × 53 columns</p>\n",
       "</div>"
      ],
      "text/plain": [
       "                        VAL01[SQ001]  VAL01[SQ002]          VAL01[SQ003]  \\\n",
       "0  Pertenço, mas não frequento muito  Não pertenço  Pertenço e frequento   \n",
       "1                       Não pertenço  Não pertenço          Não pertenço   \n",
       "2                       Não pertenço  Não pertenço          Não pertenço   \n",
       "3                       Não pertenço  Não pertenço          Não pertenço   \n",
       "4                       Não pertenço  Não pertenço          Não pertenço   \n",
       "\n",
       "                        VAL01[SQ004]  VAL01[SQ005]          VAL01[SQ006]  \\\n",
       "0  Pertenço, mas não frequento muito  Não pertenço  Pertenço e frequento   \n",
       "1  Pertenço, mas não frequento muito  Não pertenço          Não pertenço   \n",
       "2                       Não pertenço  Não pertenço          Não pertenço   \n",
       "3                       Não pertenço  Não pertenço          Não pertenço   \n",
       "4                       Não pertenço  Não pertenço          Não pertenço   \n",
       "\n",
       "                        VAL01[SQ007]                       VAL01[SQ008]  \\\n",
       "0               Pertenço e frequento               Pertenço e frequento   \n",
       "1               Pertenço e frequento                       Não pertenço   \n",
       "2                       Não pertenço                       Não pertenço   \n",
       "3  Pertenço, mas não frequento muito                       Não pertenço   \n",
       "4                       Não pertenço  Pertenço, mas não frequento muito   \n",
       "\n",
       "   VAL01[SQ009]  VAL01[SQ010]  ...  adc1[SQ013]      adc1[SQ014]  \\\n",
       "0  Não pertenço  Não pertenço  ...      3 vezes  mais de 5 vezes   \n",
       "1  Não pertenço  Não pertenço  ...  Nenhuma vez  mais de 5 vezes   \n",
       "2  Não pertenço  Não pertenço  ...  Nenhuma vez      Nenhuma vez   \n",
       "3  Não pertenço  Não pertenço  ...  Nenhuma vez  mais de 5 vezes   \n",
       "4  Não pertenço  Não pertenço  ...  Nenhuma vez            1 vez   \n",
       "\n",
       "       adc1[SQ015]       adc3[SQ001]       adc3[SQ002]       adc3[SQ003]  \\\n",
       "0  mais de 5 vezes  Muito importante  Muito importante  Muito importante   \n",
       "1      Nenhuma vez  Muito importante  Pouco importante  Muito importante   \n",
       "2      Nenhuma vez  Muito importante        Importante        Importante   \n",
       "3  mais de 5 vezes  Muito importante        Importante  Muito importante   \n",
       "4            1 vez  Muito importante        Importante        Importante   \n",
       "\n",
       "        adc3[SQ004]     adc6[SQ001]     adc6[SQ002]     adc6[SQ003]  \n",
       "0  Muito importante  Frequentemente       Raramente       Raramente  \n",
       "1        Importante  Frequentemente  Frequentemente       Raramente  \n",
       "2   Nada importante       Raramente       Raramente       Raramente  \n",
       "3  Muito importante       Raramente  Frequentemente  Frequentemente  \n",
       "4   Nada importante           Nunca       Raramente       Raramente  \n",
       "\n",
       "[5 rows x 53 columns]"
      ]
     },
     "execution_count": 3,
     "metadata": {},
     "output_type": "execute_result"
    }
   ],
   "source": [
    "df = pd.read_csv('data_tratado.csv')\n",
    "df.head()"
   ]
  },
  {
   "cell_type": "code",
   "execution_count": 4,
   "id": "aafd285e",
   "metadata": {},
   "outputs": [],
   "source": [
    "import re\n",
    "\n",
    "def extrair_dois_primeiros_numeros(entrada):\n",
    "    \"\"\"\n",
    "    Extrai os dois primeiros números inteiros de uma string.\n",
    "    Se houver caracteres não numéricos entre os dígitos, retorna apenas o primeiro número.\n",
    "    \n",
    "    Parâmetros:\n",
    "    -----------\n",
    "    entrada : str\n",
    "        A string de entrada que pode conter números e texto.\n",
    "    \n",
    "    Retorna:\n",
    "    --------\n",
    "    int or None\n",
    "        Retorna os dois primeiros números consecutivos como um inteiro, \n",
    "        ou apenas o primeiro número se houver caracteres não numéricos entre eles.\n",
    "        Retorna None se não houver números.\n",
    "    \"\"\"\n",
    "    # Encontra todos os números na string\n",
    "    numeros = re.findall(r'\\d+', entrada)\n",
    "    \n",
    "    if numeros:\n",
    "        # Se houver mais de um número, verifica se estão consecutivos na string original\n",
    "        if len(numeros) >= 2:\n",
    "            # Encontra as posições dos dois primeiros números na string\n",
    "            primeiro_num = numeros[0]\n",
    "            segundo_num = numeros[1]\n",
    "            \n",
    "            # Verifica se os dois primeiros números estão consecutivos\n",
    "            posicao_primeiro = entrada.find(primeiro_num)\n",
    "            posicao_segundo = entrada.find(segundo_num)\n",
    "            \n",
    "            # Se houver caracteres não numéricos entre os dois números, retorna apenas o primeiro\n",
    "            if posicao_segundo > posicao_primeiro + len(primeiro_num):\n",
    "                return int(primeiro_num)\n",
    "            else:\n",
    "                # Retorna os dois primeiros números consecutivos\n",
    "                return int(primeiro_num + segundo_num)\n",
    "        else:\n",
    "            # Retorna o primeiro número se houver apenas um\n",
    "            return int(numeros[0])\n",
    "    else:\n",
    "        return None  # Retorna None se não houver números"
   ]
  },
  {
   "cell_type": "code",
   "execution_count": 5,
   "id": "a9bf364c",
   "metadata": {},
   "outputs": [],
   "source": [
    "ce14_processado = df['CE14'].apply(extrair_dois_primeiros_numeros)"
   ]
  },
  {
   "cell_type": "code",
   "execution_count": 6,
   "id": "c627c3ca",
   "metadata": {},
   "outputs": [
    {
     "data": {
      "text/plain": [
       "<Axes: >"
      ]
     },
     "execution_count": 6,
     "metadata": {},
     "output_type": "execute_result"
    },
    {
     "data": {
      "image/png": "[encoded data removed]",
      "text/plain": [
       "<Figure size 640x480 with 1 Axes>"
      ]
     },
     "metadata": {},
     "output_type": "display_data"
    }
   ],
   "source": [
    "ce14_processado.hist(bins=50)"
   ]
  },
  {
   "cell_type": "code",
   "execution_count": 7,
   "id": "0b324a22",
   "metadata": {},
   "outputs": [
    {
     "data": {
      "text/plain": [
       "count    459.000000\n",
       "mean      20.976035\n",
       "std       12.042749\n",
       "min        1.000000\n",
       "25%       12.000000\n",
       "50%       18.000000\n",
       "75%       30.000000\n",
       "max       55.000000\n",
       "Name: CE14, dtype: float64"
      ]
     },
     "execution_count": 7,
     "metadata": {},
     "output_type": "execute_result"
    }
   ],
   "source": [
    "ce14_processado.describe()"
   ]
  },
  {
   "cell_type": "code",
   "execution_count": 8,
   "id": "58f76549",
   "metadata": {},
   "outputs": [],
   "source": [
    "def classificar_vinculo(idade):\n",
    "    if idade <= 5:\n",
    "        return \"Ingressantes\"\n",
    "    elif idade <= 10:\n",
    "        return \"Jovens acadêmicos\"\n",
    "    elif idade <= 20:\n",
    "        return \"Meia carreira\"\n",
    "    elif idade <= 35:\n",
    "        return \"Sêniores\"\n",
    "    else:\n",
    "        return \"Veteranos\""
   ]
  },
  {
   "cell_type": "code",
   "execution_count": 9,
   "id": "50136a9a",
   "metadata": {},
   "outputs": [],
   "source": [
    "ce14_faixas = ce14_processado.apply(classificar_vinculo)"
   ]
  },
  {
   "cell_type": "code",
   "execution_count": 10,
   "id": "38476a43",
   "metadata": {},
   "outputs": [
    {
     "data": {
      "text/plain": [
       "CE14\n",
       "Meia carreira        154\n",
       "Sêniores             140\n",
       "Jovens acadêmicos     77\n",
       "Veteranos             64\n",
       "Ingressantes          27\n",
       "Name: count, dtype: int64"
      ]
     },
     "execution_count": 10,
     "metadata": {},
     "output_type": "execute_result"
    }
   ],
   "source": [
    "ce14_faixas.value_counts()"
   ]
  },
  {
   "cell_type": "code",
   "execution_count": 11,
   "id": "38403ece",
   "metadata": {},
   "outputs": [],
   "source": [
    "df['CE14'] = ce14_faixas"
   ]
  },
  {
   "cell_type": "code",
   "execution_count": 14,
   "id": "c7b39f37",
   "metadata": {},
   "outputs": [
    {
     "data": {
      "text/plain": [
       "(0.022445584627482255, <Figure size 1400x1000 with 4 Axes>)"
      ]
     },
     "execution_count": 14,
     "metadata": {},
     "output_type": "execute_result"
    },
    {
     "data": {
      "image/png": "[encoded data removed]",
      "text/plain": [
       "<Figure size 1400x1000 with 4 Axes>"
      ]
     },
     "metadata": {},
     "output_type": "display_data"
    }
   ],
   "source": [
    "from graphs import plot_mosaic_with_residuals\n",
    "import matplotlib.pyplot as plt\n",
    "from statsmodels.graphics.mosaicplot import mosaic\n",
    "from scipy.stats import chi2_contingency\n",
    "from mpl_toolkits.axes_grid1.inset_locator import inset_axes\n",
    "\n",
    "ordered_categories = ['Nenhuma vez', '1 vez', '2 vezes', '3 vezes', '4 vezes', '5 vezes', 'mais de 5 vezes']\n",
    "\n",
    "plot_mosaic_with_residuals(df, 'adc1[SQ002]', 'CE14', ordered_categories=ordered_categories)"
   ]
  },
  {
   "cell_type": "code",
   "execution_count": 19,
   "id": "1608bcd6",
   "metadata": {},
   "outputs": [
    {
     "data": {
      "text/plain": [
       "462"
      ]
     },
     "execution_count": 19,
     "metadata": {},
     "output_type": "execute_result"
    }
   ],
   "source": [
    "pd.crosstab(df[\"adc1[SQ001]\"], df[\"CE14\"]).sum().sum()"
   ]
  },
  {
   "cell_type": "code",
   "execution_count": null,
   "id": "cdade177",
   "metadata": {},
   "outputs": [],
   "source": []
  }
 ],
 "metadata": {
  "kernelspec": {
   "display_name": "mapeamento_dashboard",
   "language": "python",
   "name": "python3"
  },
  "language_info": {
   "codemirror_mode": {
    "name": "ipython",
    "version": 3
   },
   "file_extension": ".py",
   "mimetype": "text/x-python",
   "name": "python",
   "nbconvert_exporter": "python",
   "pygments_lexer": "ipython3",
   "version": "3.12.4"
  }
 },
 "nbformat": 4,
 "nbformat_minor": 5
}
