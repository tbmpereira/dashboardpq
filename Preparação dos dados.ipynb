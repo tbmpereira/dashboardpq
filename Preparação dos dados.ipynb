{
 "cells": [
  {
   "cell_type": "code",
   "execution_count": 1,
   "id": "9b03554b",
   "metadata": {},
   "outputs": [],
   "source": [
    "import pandas as pd\n",
    "import xml.etree.ElementTree as ET"
   ]
  },
  {
   "cell_type": "code",
   "execution_count": 43,
   "id": "758611e3",
   "metadata": {},
   "outputs": [],
   "source": [
    "data = pd.read_csv('dados/results-survey292284(4).csv')"
   ]
  },
  {
   "cell_type": "code",
   "execution_count": 3,
   "id": "c61b47b2",
   "metadata": {},
   "outputs": [],
   "source": [
    "# Parse the XML file\n",
    "tree = ET.parse('dados/survey_292284_pt-BR.xml')\n",
    "\n",
    "# Get the root element\n",
    "root = tree.getroot()"
   ]
  },
  {
   "cell_type": "code",
   "execution_count": 32,
   "id": "a6ba772e",
   "metadata": {},
   "outputs": [
    {
     "data": {
      "text/plain": [
       "['1230', '698', '699', '697', '695', '694', '701', '700', '693']"
      ]
     },
     "execution_count": 32,
     "metadata": {},
     "output_type": "execute_result"
    }
   ],
   "source": [
    "sections = [element for element in root.iter() if element.tag == 'section']\n",
    "section_names = [section.get('id') for section in sections]\n",
    "section_names"
   ]
  },
  {
   "cell_type": "code",
   "execution_count": 36,
   "id": "df986b96",
   "metadata": {},
   "outputs": [
    {
     "data": {
      "text/plain": [
       "[<Element 'subQuestion' at 0x000002258863CBD0>,\n",
       " <Element 'subQuestion' at 0x000002258863CCC0>,\n",
       " <Element 'subQuestion' at 0x000002258863CD60>,\n",
       " <Element 'subQuestion' at 0x000002258863CE00>,\n",
       " <Element 'subQuestion' at 0x000002258863CEA0>,\n",
       " <Element 'subQuestion' at 0x000002258863CF40>,\n",
       " <Element 'subQuestion' at 0x0000022588640040>,\n",
       " <Element 'subQuestion' at 0x00000225886400E0>,\n",
       " <Element 'subQuestion' at 0x0000022588640180>,\n",
       " <Element 'subQuestion' at 0x0000022588640220>,\n",
       " <Element 'subQuestion' at 0x00000225886407C0>,\n",
       " <Element 'subQuestion' at 0x00000225886408B0>,\n",
       " <Element 'subQuestion' at 0x00000225886409A0>,\n",
       " <Element 'subQuestion' at 0x0000022588640A40>,\n",
       " <Element 'subQuestion' at 0x0000022588640B30>]"
      ]
     },
     "execution_count": 36,
     "metadata": {},
     "output_type": "execute_result"
    }
   ],
   "source": [
    "root.find('.//section[@id=\"700\"]').findall('.//subQuestion')"
   ]
  },
  {
   "cell_type": "code",
   "execution_count": 37,
   "id": "8b719737",
   "metadata": {},
   "outputs": [],
   "source": [
    "varmap = {}\n",
    "for section in [root.find(f'.//section[@id=\"{section_id}\"]') for section_id in ['700', '693', '694']]:\n",
    "    for subquestion in section.findall('.//subQuestion'):\n",
    "        var_name = subquestion.get('varName')\n",
    "        text = subquestion.find('text').text if subquestion.find('text') is not None else \"\"\n",
    "        varmap[var_name] = text\n",
    "\n",
    "    "
   ]
  },
  {
   "cell_type": "code",
   "execution_count": 38,
   "id": "43130128",
   "metadata": {},
   "outputs": [],
   "source": [
    "sub_questions_dict = {\n",
    "    'adc1_SQ001': 'palestra público geral',\n",
    "    'adc1_SQ002': 'curso público externo',\n",
    "    'adc1_SQ003': 'aula oficina escola básica',\n",
    "    'adc1_SQ004': 'evento comissão técnica conselho profissional',\n",
    "    'adc1_SQ005': 'atividade Pint of Science',\n",
    "    'adc1_SQ006': 'atividade Dia Ciência Semana Nacional Ciência Tecnologia',\n",
    "    'adc1_SQ007': 'evento associação ONG movimento social',\n",
    "    'adc1_SQ008': 'artigo revista público geral',\n",
    "    'adc1_SQ009': 'entrevista jornal revista público geral',\n",
    "    'adc1_SQ010': 'livro capítulo divulgação científica',\n",
    "    'adc1_SQ011': 'release imprensa programa TV rádio',\n",
    "    'adc1_SQ012': 'audiência pública poder legislativo',\n",
    "    'adc1_SQ013': 'visita guiada museu',\n",
    "    'adc1_SQ014': 'programa mídias digitais',\n",
    "    'adc1_SQ015': 'conteúdo canal próprio mídias digitais',\n",
    "    'adc3_SQ001': 'assessoria comunicação geral universidade instituto pesquisa',\n",
    "    'adc3_SQ002': 'assessoria comunicação laboratório unidade acadêmica',\n",
    "    'adc3_SQ003': 'mídia jornalistas',\n",
    "    'adc3_SQ004': 'profissionais museus',\n",
    "    'adc6_SQ001': 'diretamente',\n",
    "    'adc6_SQ002': 'via assessoria comunicação geral universidade instituto pesquisa',\n",
    "    'adc6_SQ003': 'via assessoria comunicação laboratório unidade acadêmica'\n",
    "}\n"
   ]
  },
  {
   "cell_type": "code",
   "execution_count": 39,
   "id": "9312271b",
   "metadata": {},
   "outputs": [],
   "source": [
    "for key in varmap.keys():\n",
    "    if key in sub_questions_dict:\n",
    "        varmap[key] = sub_questions_dict[key]"
   ]
  },
  {
   "cell_type": "code",
   "execution_count": 40,
   "id": "3eb2e1a6",
   "metadata": {},
   "outputs": [],
   "source": [
    "colunas = [key for key in varmap.keys() if key.startswith('adc1')]"
   ]
  },
  {
   "cell_type": "code",
   "execution_count": 41,
   "id": "f9cc1a92",
   "metadata": {},
   "outputs": [],
   "source": [
    "colunas = [coluna.replace(\"_\", \"[\") + \"]\" for coluna in colunas]"
   ]
  },
  {
   "cell_type": "code",
   "execution_count": 45,
   "id": "2044d6b8",
   "metadata": {},
   "outputs": [
    {
     "name": "stderr",
     "output_type": "stream",
     "text": [
      "C:\\Users\\MAPERE~1\\AppData\\Local\\Temp/ipykernel_16720/3419636055.py:1: FutureWarning: The default value of regex will change from True to False in a future version.\n",
      "  data.columns = data.columns.to_series().replace(varmap).str.replace(\"\\[\", \"_\").str[:-1]\n"
     ]
    }
   ],
   "source": [
    "data.columns = data.columns.to_series().replace(varmap).str.replace(\"\\[\", \"_\").str[:-1]"
   ]
  },
  {
   "cell_type": "code",
   "execution_count": 47,
   "id": "2ca4dc43",
   "metadata": {},
   "outputs": [],
   "source": [
    "for coluna in data.columns:\n",
    "    if coluna in sub_questions_dict:\n",
    "        novo_nome = sub_questions_dict[coluna]\n",
    "        data.rename(columns={coluna: novo_nome}, inplace=True)"
   ]
  },
  {
   "cell_type": "code",
   "execution_count": 48,
   "id": "c4465b21",
   "metadata": {},
   "outputs": [
    {
     "data": {
      "text/plain": [
       "{'VAL01_SQ001': 'Igreja ou grupo religioso',\n",
       " 'VAL01_SQ002': 'Associação esportiva ou recreativa',\n",
       " 'VAL01_SQ003': 'Associação artística, musical ou educacional',\n",
       " 'VAL01_SQ004': 'Sindicato',\n",
       " 'VAL01_SQ005': 'Partido político',\n",
       " 'VAL01_SQ006': 'Associação de defesa do meio ambiente',\n",
       " 'VAL01_SQ007': 'Associação profissional, ou seja, um grupo de profissionais voluntários da mesma área com interesses em comum',\n",
       " 'VAL01_SQ008': 'Associação humanitária ou de caridade',\n",
       " 'VAL01_SQ009': 'Associação de consumidores',\n",
       " 'VAL01_SQ010': 'Grupo de autoajuda, grupo de ajuda mútua',\n",
       " 'VAL02_SQ001': 'Assinou um abaixo assinado',\n",
       " 'VAL02_SQ002': 'Participou de algum boicote',\n",
       " 'VAL02_SQ003': 'Participou de manifestações pacíficas',\n",
       " 'VAL02_SQ004': 'Participou de greves',\n",
       " 'VAL02_SQ005': 'Participou de qualquer outro ato de protesto',\n",
       " 'adc1_SQ001': 'palestra público geral',\n",
       " 'adc1_SQ002': 'curso público externo',\n",
       " 'adc1_SQ003': 'aula oficina escola básica',\n",
       " 'adc1_SQ004': 'evento comissão técnica conselho profissional',\n",
       " 'adc1_SQ005': 'atividade Pint of Science',\n",
       " 'adc1_SQ006': 'atividade Dia Ciência Semana Nacional Ciência Tecnologia',\n",
       " 'adc1_SQ007': 'evento associação ONG movimento social',\n",
       " 'adc1_SQ008': 'artigo revista público geral',\n",
       " 'adc1_SQ009': 'entrevista jornal revista público geral',\n",
       " 'adc1_SQ010': 'livro capítulo divulgação científica',\n",
       " 'adc1_SQ011': 'release imprensa programa TV rádio',\n",
       " 'adc1_SQ012': 'audiência pública poder legislativo',\n",
       " 'adc1_SQ013': 'visita guiada museu',\n",
       " 'adc1_SQ014': 'programa mídias digitais',\n",
       " 'adc1_SQ015': 'conteúdo canal próprio mídias digitais',\n",
       " 'adc3_SQ001': 'assessoria comunicação geral universidade instituto pesquisa',\n",
       " 'adc3_SQ002': 'assessoria comunicação laboratório unidade acadêmica',\n",
       " 'adc3_SQ003': 'mídia jornalistas',\n",
       " 'adc3_SQ004': 'profissionais museus',\n",
       " 'adc6_SQ001': 'diretamente',\n",
       " 'adc6_SQ002': 'via assessoria comunicação geral universidade instituto pesquisa',\n",
       " 'adc6_SQ003': 'via assessoria comunicação laboratório unidade acadêmica'}"
      ]
     },
     "execution_count": 48,
     "metadata": {},
     "output_type": "execute_result"
    }
   ],
   "source": [
    "varmap"
   ]
  },
  {
   "cell_type": "code",
   "execution_count": 29,
   "id": "414a5bf3",
   "metadata": {},
   "outputs": [],
   "source": [
    "data.to_csv('data_tratado.csv', index=False)"
   ]
  },
  {
   "cell_type": "code",
   "execution_count": null,
   "id": "46ea5595",
   "metadata": {},
   "outputs": [],
   "source": []
  }
 ],
 "metadata": {
  "kernelspec": {
   "display_name": "Python 3 (ipykernel)",
   "language": "python",
   "name": "python3"
  },
  "language_info": {
   "codemirror_mode": {
    "name": "ipython",
    "version": 3
   },
   "file_extension": ".py",
   "mimetype": "text/x-python",
   "name": "python",
   "nbconvert_exporter": "python",
   "pygments_lexer": "ipython3",
   "version": "3.9.7"
  }
 },
 "nbformat": 4,
 "nbformat_minor": 5
}
